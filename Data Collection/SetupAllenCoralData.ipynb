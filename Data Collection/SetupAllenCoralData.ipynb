{
 "cells": [
  {
   "cell_type": "code",
   "execution_count": 1,
   "id": "ab8ea681",
   "metadata": {},
   "outputs": [],
   "source": [
    "import geopandas as gpd\n",
    "import pickle"
   ]
  },
  {
   "attachments": {},
   "cell_type": "markdown",
   "id": "1aeaa8ff",
   "metadata": {},
   "source": [
    "# Prepare Allen Coral Atlas File\n",
    "Using the benthic map file downloaded from allen coral atlas, this notebook prepares a pickle file to be used for pulling satellite data. The benthic map for a given region can be downloaded here: https://allencoralatlas.org/atlas"
   ]
  },
  {
   "cell_type": "code",
   "execution_count": 2,
   "id": "f96925bd",
   "metadata": {},
   "outputs": [
    {
     "data": {
      "text/html": [
       "<div>\n",
       "<style scoped>\n",
       "    .dataframe tbody tr th:only-of-type {\n",
       "        vertical-align: middle;\n",
       "    }\n",
       "\n",
       "    .dataframe tbody tr th {\n",
       "        vertical-align: top;\n",
       "    }\n",
       "\n",
       "    .dataframe thead th {\n",
       "        text-align: right;\n",
       "    }\n",
       "</style>\n",
       "<table border=\"1\" class=\"dataframe\">\n",
       "  <thead>\n",
       "    <tr style=\"text-align: right;\">\n",
       "      <th></th>\n",
       "      <th>class</th>\n",
       "      <th>geometry</th>\n",
       "    </tr>\n",
       "  </thead>\n",
       "  <tbody>\n",
       "    <tr>\n",
       "      <th>0</th>\n",
       "      <td>Rock</td>\n",
       "      <td>POLYGON ((-77.33956 26.82419, -77.33947 26.824...</td>\n",
       "    </tr>\n",
       "    <tr>\n",
       "      <th>1</th>\n",
       "      <td>Rubble</td>\n",
       "      <td>POLYGON ((-77.34117 26.82414, -77.34113 26.824...</td>\n",
       "    </tr>\n",
       "    <tr>\n",
       "      <th>2</th>\n",
       "      <td>Seagrass</td>\n",
       "      <td>POLYGON ((-77.33947 26.82325, -77.33938 26.823...</td>\n",
       "    </tr>\n",
       "    <tr>\n",
       "      <th>3</th>\n",
       "      <td>Rubble</td>\n",
       "      <td>POLYGON ((-77.33830 26.82298, -77.33821 26.822...</td>\n",
       "    </tr>\n",
       "    <tr>\n",
       "      <th>4</th>\n",
       "      <td>Seagrass</td>\n",
       "      <td>POLYGON ((-77.33727 26.82378, -77.33718 26.823...</td>\n",
       "    </tr>\n",
       "    <tr>\n",
       "      <th>...</th>\n",
       "      <td>...</td>\n",
       "      <td>...</td>\n",
       "    </tr>\n",
       "    <tr>\n",
       "      <th>10205273</th>\n",
       "      <td>Seagrass</td>\n",
       "      <td>POLYGON ((-77.25184 22.72302, -77.25184 22.722...</td>\n",
       "    </tr>\n",
       "    <tr>\n",
       "      <th>10205274</th>\n",
       "      <td>Seagrass</td>\n",
       "      <td>POLYGON ((-77.25830 22.72868, -77.25830 22.728...</td>\n",
       "    </tr>\n",
       "    <tr>\n",
       "      <th>10205275</th>\n",
       "      <td>Seagrass</td>\n",
       "      <td>POLYGON ((-77.25467 22.73155, -77.25467 22.731...</td>\n",
       "    </tr>\n",
       "    <tr>\n",
       "      <th>10205276</th>\n",
       "      <td>Sand</td>\n",
       "      <td>POLYGON ((-77.25718 22.73164, -77.25709 22.731...</td>\n",
       "    </tr>\n",
       "    <tr>\n",
       "      <th>10205277</th>\n",
       "      <td>Sand</td>\n",
       "      <td>POLYGON ((-77.25094 22.73187, -77.25094 22.731...</td>\n",
       "    </tr>\n",
       "  </tbody>\n",
       "</table>\n",
       "<p>10205278 rows × 2 columns</p>\n",
       "</div>"
      ],
      "text/plain": [
       "             class                                           geometry\n",
       "0             Rock  POLYGON ((-77.33956 26.82419, -77.33947 26.824...\n",
       "1           Rubble  POLYGON ((-77.34117 26.82414, -77.34113 26.824...\n",
       "2         Seagrass  POLYGON ((-77.33947 26.82325, -77.33938 26.823...\n",
       "3           Rubble  POLYGON ((-77.33830 26.82298, -77.33821 26.822...\n",
       "4         Seagrass  POLYGON ((-77.33727 26.82378, -77.33718 26.823...\n",
       "...            ...                                                ...\n",
       "10205273  Seagrass  POLYGON ((-77.25184 22.72302, -77.25184 22.722...\n",
       "10205274  Seagrass  POLYGON ((-77.25830 22.72868, -77.25830 22.728...\n",
       "10205275  Seagrass  POLYGON ((-77.25467 22.73155, -77.25467 22.731...\n",
       "10205276      Sand  POLYGON ((-77.25718 22.73164, -77.25709 22.731...\n",
       "10205277      Sand  POLYGON ((-77.25094 22.73187, -77.25094 22.731...\n",
       "\n",
       "[10205278 rows x 2 columns]"
      ]
     },
     "execution_count": 2,
     "metadata": {},
     "output_type": "execute_result"
    }
   ],
   "source": [
    "allen_coral_df = gpd.read_file(\"./files/benthic.gpkg\")\n",
    "allen_coral_df"
   ]
  },
  {
   "cell_type": "markdown",
   "id": "8c003ffc",
   "metadata": {},
   "source": [
    "Create a centroid column from the bounding box provided in the geometry column."
   ]
  },
  {
   "cell_type": "code",
   "execution_count": 3,
   "id": "b7430c6a",
   "metadata": {},
   "outputs": [
    {
     "name": "stderr",
     "output_type": "stream",
     "text": [
      "C:\\Users\\Thomas\\AppData\\Local\\Temp\\ipykernel_13704\\2445519379.py:1: UserWarning: Geometry is in a geographic CRS. Results from 'centroid' are likely incorrect. Use 'GeoSeries.to_crs()' to re-project geometries to a projected CRS before this operation.\n",
      "\n",
      "  allen_coral_df['centroid_column'] = allen_coral_df.centroid\n"
     ]
    }
   ],
   "source": [
    "allen_coral_df['centroid_column'] = allen_coral_df.centroid"
   ]
  },
  {
   "cell_type": "markdown",
   "id": "4195b8ff",
   "metadata": {},
   "source": [
    "Extract longitude and latitude from each centroid."
   ]
  },
  {
   "cell_type": "code",
   "execution_count": 4,
   "id": "0ea28be1",
   "metadata": {},
   "outputs": [
    {
     "data": {
      "text/html": [
       "<div>\n",
       "<style scoped>\n",
       "    .dataframe tbody tr th:only-of-type {\n",
       "        vertical-align: middle;\n",
       "    }\n",
       "\n",
       "    .dataframe tbody tr th {\n",
       "        vertical-align: top;\n",
       "    }\n",
       "\n",
       "    .dataframe thead th {\n",
       "        text-align: right;\n",
       "    }\n",
       "</style>\n",
       "<table border=\"1\" class=\"dataframe\">\n",
       "  <thead>\n",
       "    <tr style=\"text-align: right;\">\n",
       "      <th></th>\n",
       "      <th>class</th>\n",
       "      <th>geometry</th>\n",
       "      <th>centroid_column</th>\n",
       "      <th>long</th>\n",
       "      <th>lat</th>\n",
       "    </tr>\n",
       "  </thead>\n",
       "  <tbody>\n",
       "    <tr>\n",
       "      <th>0</th>\n",
       "      <td>Rock</td>\n",
       "      <td>POLYGON ((-77.33956 26.82419, -77.33947 26.824...</td>\n",
       "      <td>POINT (-77.33951 26.82417)</td>\n",
       "      <td>-77.339511</td>\n",
       "      <td>26.824166</td>\n",
       "    </tr>\n",
       "    <tr>\n",
       "      <th>1</th>\n",
       "      <td>Rubble</td>\n",
       "      <td>POLYGON ((-77.34117 26.82414, -77.34113 26.824...</td>\n",
       "      <td>POINT (-77.34114 26.82404)</td>\n",
       "      <td>-77.341136</td>\n",
       "      <td>26.824036</td>\n",
       "    </tr>\n",
       "    <tr>\n",
       "      <th>2</th>\n",
       "      <td>Seagrass</td>\n",
       "      <td>POLYGON ((-77.33947 26.82325, -77.33938 26.823...</td>\n",
       "      <td>POINT (-77.33942 26.82320)</td>\n",
       "      <td>-77.339421</td>\n",
       "      <td>26.823200</td>\n",
       "    </tr>\n",
       "    <tr>\n",
       "      <th>3</th>\n",
       "      <td>Rubble</td>\n",
       "      <td>POLYGON ((-77.33830 26.82298, -77.33821 26.822...</td>\n",
       "      <td>POINT (-77.33825 26.82294)</td>\n",
       "      <td>-77.338246</td>\n",
       "      <td>26.822938</td>\n",
       "    </tr>\n",
       "    <tr>\n",
       "      <th>4</th>\n",
       "      <td>Seagrass</td>\n",
       "      <td>POLYGON ((-77.33727 26.82378, -77.33718 26.823...</td>\n",
       "      <td>POINT (-77.33733 26.82317)</td>\n",
       "      <td>-77.337328</td>\n",
       "      <td>26.823174</td>\n",
       "    </tr>\n",
       "    <tr>\n",
       "      <th>...</th>\n",
       "      <td>...</td>\n",
       "      <td>...</td>\n",
       "      <td>...</td>\n",
       "      <td>...</td>\n",
       "      <td>...</td>\n",
       "    </tr>\n",
       "    <tr>\n",
       "      <th>10205273</th>\n",
       "      <td>Seagrass</td>\n",
       "      <td>POLYGON ((-77.25184 22.72302, -77.25184 22.722...</td>\n",
       "      <td>POINT (-77.25179 22.72290)</td>\n",
       "      <td>-77.251787</td>\n",
       "      <td>22.722904</td>\n",
       "    </tr>\n",
       "    <tr>\n",
       "      <th>10205274</th>\n",
       "      <td>Seagrass</td>\n",
       "      <td>POLYGON ((-77.25830 22.72868, -77.25830 22.728...</td>\n",
       "      <td>POINT (-77.25622 22.72925)</td>\n",
       "      <td>-77.256224</td>\n",
       "      <td>22.729252</td>\n",
       "    </tr>\n",
       "    <tr>\n",
       "      <th>10205275</th>\n",
       "      <td>Seagrass</td>\n",
       "      <td>POLYGON ((-77.25467 22.73155, -77.25467 22.731...</td>\n",
       "      <td>POINT (-77.25286 22.72945)</td>\n",
       "      <td>-77.252856</td>\n",
       "      <td>22.729454</td>\n",
       "    </tr>\n",
       "    <tr>\n",
       "      <th>10205276</th>\n",
       "      <td>Sand</td>\n",
       "      <td>POLYGON ((-77.25718 22.73164, -77.25709 22.731...</td>\n",
       "      <td>POINT (-77.25863 22.73055)</td>\n",
       "      <td>-77.258626</td>\n",
       "      <td>22.730546</td>\n",
       "    </tr>\n",
       "    <tr>\n",
       "      <th>10205277</th>\n",
       "      <td>Sand</td>\n",
       "      <td>POLYGON ((-77.25094 22.73187, -77.25094 22.731...</td>\n",
       "      <td>POINT (-77.25191 22.73135)</td>\n",
       "      <td>-77.251907</td>\n",
       "      <td>22.731345</td>\n",
       "    </tr>\n",
       "  </tbody>\n",
       "</table>\n",
       "<p>10205278 rows × 5 columns</p>\n",
       "</div>"
      ],
      "text/plain": [
       "             class                                           geometry  \\\n",
       "0             Rock  POLYGON ((-77.33956 26.82419, -77.33947 26.824...   \n",
       "1           Rubble  POLYGON ((-77.34117 26.82414, -77.34113 26.824...   \n",
       "2         Seagrass  POLYGON ((-77.33947 26.82325, -77.33938 26.823...   \n",
       "3           Rubble  POLYGON ((-77.33830 26.82298, -77.33821 26.822...   \n",
       "4         Seagrass  POLYGON ((-77.33727 26.82378, -77.33718 26.823...   \n",
       "...            ...                                                ...   \n",
       "10205273  Seagrass  POLYGON ((-77.25184 22.72302, -77.25184 22.722...   \n",
       "10205274  Seagrass  POLYGON ((-77.25830 22.72868, -77.25830 22.728...   \n",
       "10205275  Seagrass  POLYGON ((-77.25467 22.73155, -77.25467 22.731...   \n",
       "10205276      Sand  POLYGON ((-77.25718 22.73164, -77.25709 22.731...   \n",
       "10205277      Sand  POLYGON ((-77.25094 22.73187, -77.25094 22.731...   \n",
       "\n",
       "                     centroid_column       long        lat  \n",
       "0         POINT (-77.33951 26.82417) -77.339511  26.824166  \n",
       "1         POINT (-77.34114 26.82404) -77.341136  26.824036  \n",
       "2         POINT (-77.33942 26.82320) -77.339421  26.823200  \n",
       "3         POINT (-77.33825 26.82294) -77.338246  26.822938  \n",
       "4         POINT (-77.33733 26.82317) -77.337328  26.823174  \n",
       "...                              ...        ...        ...  \n",
       "10205273  POINT (-77.25179 22.72290) -77.251787  22.722904  \n",
       "10205274  POINT (-77.25622 22.72925) -77.256224  22.729252  \n",
       "10205275  POINT (-77.25286 22.72945) -77.252856  22.729454  \n",
       "10205276  POINT (-77.25863 22.73055) -77.258626  22.730546  \n",
       "10205277  POINT (-77.25191 22.73135) -77.251907  22.731345  \n",
       "\n",
       "[10205278 rows x 5 columns]"
      ]
     },
     "execution_count": 4,
     "metadata": {},
     "output_type": "execute_result"
    }
   ],
   "source": [
    "allen_coral_df['long'] = allen_coral_df['centroid_column'].x\n",
    "allen_coral_df['lat'] = allen_coral_df['centroid_column'].y\n",
    "allen_coral_df"
   ]
  },
  {
   "cell_type": "markdown",
   "id": "8c2c1431",
   "metadata": {},
   "source": [
    "Function to create a subsample of data points from the allen coral atlas. The coral/algae and non-coral classes will be equally represented."
   ]
  },
  {
   "cell_type": "code",
   "execution_count": 5,
   "id": "04453ed6",
   "metadata": {},
   "outputs": [],
   "source": [
    "def getAllenCoralSample(allen_df, numSamples):\n",
    "    # Rename all Non-Coral classes\n",
    "    allen_df.loc[allen_df[\"class\"] == \"Rubble\", \"class\"] = 'Non-Coral'\n",
    "    allen_df.loc[allen_df[\"class\"] == \"Rock\", \"class\"] = 'Non-Coral'\n",
    "    allen_df.loc[allen_df[\"class\"] == \"Sand\", \"class\"] = 'Non-Coral'\n",
    "    allen_df.loc[allen_df[\"class\"] == \"Microalgal Mats\", \"class\"] = 'Non-Coral'\n",
    "    allen_df.loc[allen_df[\"class\"] == \"Seagrass\", \"class\"] = 'Non-Coral'\n",
    "    \n",
    "    # Sample Coral/Algae and Non-Coral classes equally\n",
    "    allen_sample = allen_df.groupby('class').apply(lambda x: x.sample(numSamples))\n",
    "    \n",
    "    return allen_sample"
   ]
  },
  {
   "cell_type": "code",
   "execution_count": 6,
   "id": "7fc3a2e2",
   "metadata": {},
   "outputs": [],
   "source": [
    "allen_sample = getAllenCoralSample(allen_coral_df, 25000)"
   ]
  },
  {
   "cell_type": "code",
   "execution_count": 7,
   "id": "ef864eed",
   "metadata": {},
   "outputs": [
    {
     "data": {
      "text/plain": [
       "Coral/Algae    25000\n",
       "Non-Coral      25000\n",
       "Name: class, dtype: int64"
      ]
     },
     "execution_count": 7,
     "metadata": {},
     "output_type": "execute_result"
    }
   ],
   "source": [
    "allen_sample['class'].value_counts()"
   ]
  },
  {
   "cell_type": "code",
   "execution_count": null,
   "id": "77ade38d",
   "metadata": {},
   "outputs": [],
   "source": [
    "allen_sample.to_pickle('./files/northern_carribean_subset.pkl')"
   ]
  }
 ],
 "metadata": {
  "kernelspec": {
   "display_name": "base",
   "language": "python",
   "name": "python3"
  },
  "language_info": {
   "codemirror_mode": {
    "name": "ipython",
    "version": 3
   },
   "file_extension": ".py",
   "mimetype": "text/x-python",
   "name": "python",
   "nbconvert_exporter": "python",
   "pygments_lexer": "ipython3",
   "version": "3.9.7"
  },
  "toc": {
   "base_numbering": 1,
   "nav_menu": {},
   "number_sections": true,
   "sideBar": true,
   "skip_h1_title": false,
   "title_cell": "Table of Contents",
   "title_sidebar": "Contents",
   "toc_cell": false,
   "toc_position": {},
   "toc_section_display": true,
   "toc_window_display": false
  },
  "vscode": {
   "interpreter": {
    "hash": "7d8cf412c429d163f0ec8962de5d99a5f7520d1b1380235674c38dc96da666cc"
   }
  }
 },
 "nbformat": 4,
 "nbformat_minor": 5
}
