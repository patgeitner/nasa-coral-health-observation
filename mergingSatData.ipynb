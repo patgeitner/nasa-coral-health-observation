{
 "cells": [
  {
   "cell_type": "markdown",
   "metadata": {},
   "source": [
    "# Merging ICESAT, MODIS, and LANDSAT Satellite Data"
   ]
  },
  {
   "cell_type": "code",
   "execution_count": 263,
   "metadata": {},
   "outputs": [
    {
     "name": "stderr",
     "output_type": "stream",
     "text": [
      "/Users/patrickgeitner/miniforge3/lib/python3.9/site-packages/scipy/__init__.py:146: UserWarning: A NumPy version >=1.16.5 and <1.23.0 is required for this version of SciPy (detected version 1.23.3\n",
      "  warnings.warn(f\"A NumPy version >={np_minversion} and <{np_maxversion}\"\n"
     ]
    }
   ],
   "source": [
    "import geopandas as gpd\n",
    "import pandas as pd\n",
    "import numpy as np\n",
    "import matplotlib.pyplot as plt\n",
    "import datetime\n",
    "import swifter"
   ]
  },
  {
   "cell_type": "markdown",
   "metadata": {},
   "source": [
    "## Merging MODIS and ICESAT Data\n",
    "### Great Barrier Reef"
   ]
  },
  {
   "cell_type": "code",
   "execution_count": 2,
   "metadata": {},
   "outputs": [],
   "source": [
    "icesat_gb = pd.read_pickle('./files/ICESAT2/icesat_data_GB_filtered_heights.pkl')\n",
    "icesat_gb = gpd.GeoDataFrame(icesat_gb, geometry=gpd.points_from_xy(icesat_gb.lons, icesat_gb.lats))"
   ]
  },
  {
   "cell_type": "code",
   "execution_count": 52,
   "metadata": {},
   "outputs": [],
   "source": [
    "modis_gb = pd.read_pickle('./files/MODIS/modis_GB.pkl')\n",
    "modis_gb = gpd.GeoDataFrame(modis_gb, geometry=gpd.points_from_xy(modis_gb.longitude, modis_gb.latitude))\n",
    "modis_gb['datetime'] = modis_gb.time.apply(lambda x: datetime.datetime.fromtimestamp(x/1000))\n",
    "modis_gb['datetime'] = pd.DatetimeIndex(modis_gb['datetime'])"
   ]
  },
  {
   "cell_type": "code",
   "execution_count": 53,
   "metadata": {},
   "outputs": [],
   "source": [
    "icesat_modis_gb = gpd.sjoin_nearest(icesat_gb, modis_gb, how='inner', lsuffix='icesat', rsuffix='modis', max_distance=.001, distance_col='distance')"
   ]
  },
  {
   "cell_type": "code",
   "execution_count": 54,
   "metadata": {},
   "outputs": [
    {
     "name": "stdout",
     "output_type": "stream",
     "text": [
      "(12058, 9)\n"
     ]
    },
    {
     "data": {
      "text/html": [
       "<div>\n",
       "<style scoped>\n",
       "    .dataframe tbody tr th:only-of-type {\n",
       "        vertical-align: middle;\n",
       "    }\n",
       "\n",
       "    .dataframe tbody tr th {\n",
       "        vertical-align: top;\n",
       "    }\n",
       "\n",
       "    .dataframe thead th {\n",
       "        text-align: right;\n",
       "    }\n",
       "</style>\n",
       "<table border=\"1\" class=\"dataframe\">\n",
       "  <thead>\n",
       "    <tr style=\"text-align: right;\">\n",
       "      <th></th>\n",
       "      <th>lats</th>\n",
       "      <th>lons</th>\n",
       "      <th>datetime_modis</th>\n",
       "      <th>datetime_icesat</th>\n",
       "      <th>heights</th>\n",
       "      <th>chlor_a</th>\n",
       "      <th>distance</th>\n",
       "      <th>distance_meters_icesat_modis</th>\n",
       "      <th>time_diff_icesat_modis</th>\n",
       "    </tr>\n",
       "  </thead>\n",
       "  <tbody>\n",
       "    <tr>\n",
       "      <th>8183806</th>\n",
       "      <td>-14.328735</td>\n",
       "      <td>144.852555</td>\n",
       "      <td>2020-08-14 20:55:00</td>\n",
       "      <td>2018-10-19 05:43:13</td>\n",
       "      <td>-14.017767</td>\n",
       "      <td>0.399796</td>\n",
       "      <td>0.000992</td>\n",
       "      <td>110.095998</td>\n",
       "      <td>665 days 15:11:47</td>\n",
       "    </tr>\n",
       "    <tr>\n",
       "      <th>8183807</th>\n",
       "      <td>-14.328734</td>\n",
       "      <td>144.852554</td>\n",
       "      <td>2020-08-14 20:55:00</td>\n",
       "      <td>2018-10-19 05:43:13</td>\n",
       "      <td>1.471302</td>\n",
       "      <td>0.399796</td>\n",
       "      <td>0.000991</td>\n",
       "      <td>110.053046</td>\n",
       "      <td>665 days 15:11:47</td>\n",
       "    </tr>\n",
       "    <tr>\n",
       "      <th>8183818</th>\n",
       "      <td>-14.328704</td>\n",
       "      <td>144.852551</td>\n",
       "      <td>2020-08-14 20:55:00</td>\n",
       "      <td>2018-10-19 05:43:13</td>\n",
       "      <td>-20.322205</td>\n",
       "      <td>0.399796</td>\n",
       "      <td>0.000976</td>\n",
       "      <td>108.289021</td>\n",
       "      <td>665 days 15:11:47</td>\n",
       "    </tr>\n",
       "    <tr>\n",
       "      <th>8183839</th>\n",
       "      <td>-14.328659</td>\n",
       "      <td>144.852547</td>\n",
       "      <td>2020-08-14 20:55:00</td>\n",
       "      <td>2018-10-19 05:43:13</td>\n",
       "      <td>-21.377756</td>\n",
       "      <td>0.399796</td>\n",
       "      <td>0.000954</td>\n",
       "      <td>105.884897</td>\n",
       "      <td>665 days 15:11:47</td>\n",
       "    </tr>\n",
       "    <tr>\n",
       "      <th>8183844</th>\n",
       "      <td>-14.328646</td>\n",
       "      <td>144.852545</td>\n",
       "      <td>2020-08-14 20:55:00</td>\n",
       "      <td>2018-10-19 05:43:13</td>\n",
       "      <td>-8.550291</td>\n",
       "      <td>0.399796</td>\n",
       "      <td>0.000948</td>\n",
       "      <td>105.201120</td>\n",
       "      <td>665 days 15:11:47</td>\n",
       "    </tr>\n",
       "  </tbody>\n",
       "</table>\n",
       "</div>"
      ],
      "text/plain": [
       "              lats        lons      datetime_modis     datetime_icesat  \\\n",
       "8183806 -14.328735  144.852555 2020-08-14 20:55:00 2018-10-19 05:43:13   \n",
       "8183807 -14.328734  144.852554 2020-08-14 20:55:00 2018-10-19 05:43:13   \n",
       "8183818 -14.328704  144.852551 2020-08-14 20:55:00 2018-10-19 05:43:13   \n",
       "8183839 -14.328659  144.852547 2020-08-14 20:55:00 2018-10-19 05:43:13   \n",
       "8183844 -14.328646  144.852545 2020-08-14 20:55:00 2018-10-19 05:43:13   \n",
       "\n",
       "           heights   chlor_a  distance  distance_meters_icesat_modis  \\\n",
       "8183806 -14.017767  0.399796  0.000992                    110.095998   \n",
       "8183807   1.471302  0.399796  0.000991                    110.053046   \n",
       "8183818 -20.322205  0.399796  0.000976                    108.289021   \n",
       "8183839 -21.377756  0.399796  0.000954                    105.884897   \n",
       "8183844  -8.550291  0.399796  0.000948                    105.201120   \n",
       "\n",
       "        time_diff_icesat_modis  \n",
       "8183806      665 days 15:11:47  \n",
       "8183807      665 days 15:11:47  \n",
       "8183818      665 days 15:11:47  \n",
       "8183839      665 days 15:11:47  \n",
       "8183844      665 days 15:11:47  "
      ]
     },
     "execution_count": 54,
     "metadata": {},
     "output_type": "execute_result"
    }
   ],
   "source": [
    "icesat_modis_gb = icesat_modis_gb[['lats', 'lons', 'datetime_modis', 'datetime_icesat', 'heights', 'chlor_a', 'distance']]\n",
    "icesat_modis_gb['distance_meters_icesat_modis'] = icesat_modis_gb.distance * 111000\n",
    "icesat_modis_gb['time_diff_icesat_modis'] = np.abs(icesat_modis_gb.datetime_modis - icesat_modis_gb.datetime_icesat)\n",
    "print(icesat_modis_gb.shape)\n",
    "icesat_modis_gb.head()"
   ]
  },
  {
   "cell_type": "markdown",
   "metadata": {},
   "source": [
    "## Caribbean"
   ]
  },
  {
   "cell_type": "code",
   "execution_count": 6,
   "metadata": {},
   "outputs": [],
   "source": [
    "icesat_car = pd.read_pickle('./files/ICESAT2/icesat_data_CAR_filtered_height.pkl')\n",
    "icesat_car = gpd.GeoDataFrame(icesat_car, geometry=gpd.points_from_xy(icesat_car.lons, icesat_car.lats))"
   ]
  },
  {
   "cell_type": "code",
   "execution_count": 55,
   "metadata": {},
   "outputs": [],
   "source": [
    "modis_car = pd.read_pickle('./files/MODIS/modis_CAR.pkl')\n",
    "modis_car = gpd.GeoDataFrame(modis_car, geometry=gpd.points_from_xy(modis_car.longitude, modis_car.latitude))\n",
    "modis_car['datetime'] = modis_car.time.apply(lambda x: datetime.datetime.fromtimestamp(x/1000))\n",
    "modis_car['datetime'] = pd.DatetimeIndex(modis_car['datetime'])"
   ]
  },
  {
   "cell_type": "code",
   "execution_count": 56,
   "metadata": {},
   "outputs": [],
   "source": [
    "icesat_modis_car = gpd.sjoin_nearest(icesat_car, modis_car, how='inner', lsuffix='icesat', rsuffix='modis', max_distance=.001, distance_col='distance')"
   ]
  },
  {
   "cell_type": "code",
   "execution_count": 57,
   "metadata": {},
   "outputs": [
    {
     "name": "stdout",
     "output_type": "stream",
     "text": [
      "(843793, 9)\n"
     ]
    },
    {
     "data": {
      "text/html": [
       "<div>\n",
       "<style scoped>\n",
       "    .dataframe tbody tr th:only-of-type {\n",
       "        vertical-align: middle;\n",
       "    }\n",
       "\n",
       "    .dataframe tbody tr th {\n",
       "        vertical-align: top;\n",
       "    }\n",
       "\n",
       "    .dataframe thead th {\n",
       "        text-align: right;\n",
       "    }\n",
       "</style>\n",
       "<table border=\"1\" class=\"dataframe\">\n",
       "  <thead>\n",
       "    <tr style=\"text-align: right;\">\n",
       "      <th></th>\n",
       "      <th>lats</th>\n",
       "      <th>lons</th>\n",
       "      <th>datetime_modis</th>\n",
       "      <th>datetime_icesat</th>\n",
       "      <th>heights</th>\n",
       "      <th>chlor_a</th>\n",
       "      <th>distance</th>\n",
       "      <th>distance_meters_icesat_modis</th>\n",
       "      <th>time_diff_icesat_modis</th>\n",
       "    </tr>\n",
       "  </thead>\n",
       "  <tbody>\n",
       "    <tr>\n",
       "      <th>538789</th>\n",
       "      <td>25.827547</td>\n",
       "      <td>-74.245576</td>\n",
       "      <td>2018-09-27 20:10:00</td>\n",
       "      <td>2018-10-14 08:35:34</td>\n",
       "      <td>-44.081188</td>\n",
       "      <td>0.029181</td>\n",
       "      <td>0.001000</td>\n",
       "      <td>110.965367</td>\n",
       "      <td>16 days 12:25:34</td>\n",
       "    </tr>\n",
       "    <tr>\n",
       "      <th>538790</th>\n",
       "      <td>25.827547</td>\n",
       "      <td>-74.245576</td>\n",
       "      <td>2018-09-27 20:10:00</td>\n",
       "      <td>2018-10-14 08:35:34</td>\n",
       "      <td>-43.814438</td>\n",
       "      <td>0.029181</td>\n",
       "      <td>0.001000</td>\n",
       "      <td>110.963332</td>\n",
       "      <td>16 days 12:25:34</td>\n",
       "    </tr>\n",
       "    <tr>\n",
       "      <th>538791</th>\n",
       "      <td>25.827541</td>\n",
       "      <td>-74.245577</td>\n",
       "      <td>2018-09-27 20:10:00</td>\n",
       "      <td>2018-10-14 08:35:34</td>\n",
       "      <td>-43.801620</td>\n",
       "      <td>0.029181</td>\n",
       "      <td>0.000993</td>\n",
       "      <td>110.258293</td>\n",
       "      <td>16 days 12:25:34</td>\n",
       "    </tr>\n",
       "    <tr>\n",
       "      <th>538792</th>\n",
       "      <td>25.827535</td>\n",
       "      <td>-74.245577</td>\n",
       "      <td>2018-09-27 20:10:00</td>\n",
       "      <td>2018-10-14 08:35:34</td>\n",
       "      <td>-44.236015</td>\n",
       "      <td>0.029181</td>\n",
       "      <td>0.000987</td>\n",
       "      <td>109.547328</td>\n",
       "      <td>16 days 12:25:34</td>\n",
       "    </tr>\n",
       "    <tr>\n",
       "      <th>538793</th>\n",
       "      <td>25.827515</td>\n",
       "      <td>-74.245580</td>\n",
       "      <td>2018-09-27 20:10:00</td>\n",
       "      <td>2018-10-14 08:35:34</td>\n",
       "      <td>-43.847576</td>\n",
       "      <td>0.029181</td>\n",
       "      <td>0.000968</td>\n",
       "      <td>107.401833</td>\n",
       "      <td>16 days 12:25:34</td>\n",
       "    </tr>\n",
       "  </tbody>\n",
       "</table>\n",
       "</div>"
      ],
      "text/plain": [
       "             lats       lons      datetime_modis     datetime_icesat  \\\n",
       "538789  25.827547 -74.245576 2018-09-27 20:10:00 2018-10-14 08:35:34   \n",
       "538790  25.827547 -74.245576 2018-09-27 20:10:00 2018-10-14 08:35:34   \n",
       "538791  25.827541 -74.245577 2018-09-27 20:10:00 2018-10-14 08:35:34   \n",
       "538792  25.827535 -74.245577 2018-09-27 20:10:00 2018-10-14 08:35:34   \n",
       "538793  25.827515 -74.245580 2018-09-27 20:10:00 2018-10-14 08:35:34   \n",
       "\n",
       "          heights   chlor_a  distance  distance_meters_icesat_modis  \\\n",
       "538789 -44.081188  0.029181  0.001000                    110.965367   \n",
       "538790 -43.814438  0.029181  0.001000                    110.963332   \n",
       "538791 -43.801620  0.029181  0.000993                    110.258293   \n",
       "538792 -44.236015  0.029181  0.000987                    109.547328   \n",
       "538793 -43.847576  0.029181  0.000968                    107.401833   \n",
       "\n",
       "       time_diff_icesat_modis  \n",
       "538789       16 days 12:25:34  \n",
       "538790       16 days 12:25:34  \n",
       "538791       16 days 12:25:34  \n",
       "538792       16 days 12:25:34  \n",
       "538793       16 days 12:25:34  "
      ]
     },
     "execution_count": 57,
     "metadata": {},
     "output_type": "execute_result"
    }
   ],
   "source": [
    "icesat_modis_car = icesat_modis_car[['lats', 'lons', 'datetime_modis', 'datetime_icesat', 'heights', 'chlor_a', 'distance']]\n",
    "icesat_modis_car['distance_meters_icesat_modis'] = icesat_modis_car.distance * 111000\n",
    "icesat_modis_car['time_diff_icesat_modis'] = np.abs(icesat_modis_car.datetime_modis - icesat_modis_car.datetime_icesat)\n",
    "print(icesat_modis_car.shape)\n",
    "icesat_modis_car.head()"
   ]
  },
  {
   "cell_type": "code",
   "execution_count": 58,
   "metadata": {},
   "outputs": [],
   "source": [
    "icesat_modis = pd.concat([icesat_modis_gb, icesat_modis_car])\n",
    "icesat_modis.to_pickle('./files/icesat_modis.pkl')"
   ]
  },
  {
   "cell_type": "markdown",
   "metadata": {},
   "source": [
    "## Adding Landsat Data from Google Earth Engine"
   ]
  },
  {
   "cell_type": "code",
   "execution_count": 13,
   "metadata": {
    "scrolled": true
   },
   "outputs": [
    {
     "name": "stdout",
     "output_type": "stream",
     "text": [
      "Paste the following address into a web browser:\n",
      "\n",
      "    https://code.earthengine.google.com/client-auth?scopes=https%3A//www.googleapis.com/auth/earthengine%20https%3A//www.googleapis.com/auth/devstorage.full_control&request_id=NO7ZJ73JOLxULOTWystqQ0COrLnYpXUWu8wXqmljx0I&tc=QolrWupX9V-DqtEdeb-L87njuM6nKZF6EDVzGPTKLvE&cc=unD1cSyUGcpnFCEH1DKEmE7I0ENxRm77WQ1hO1SCP9I\n",
      "\n",
      "On the web page, please authorize access to your Earth Engine account and copy the authentication code. Next authenticate with the following command:\n",
      "\n",
      "    earthengine authenticate --code-verifier=NO7ZJ73JOLxULOTWystqQ0COrLnYpXUWu8wXqmljx0I:mbGkmpHQ895Q-9DzQxF9bMebPz1O8AnfKEhR582mNNw:-tDMnOb5Kev21y5Utv0gTRfHmF3wPor71F2Ew4l69tQ --authorization-code=PLACE_AUTH_CODE_HERE\n",
      "\n",
      "Enter verification code: 4/1ARtbsJo9G5RPMr-UtapIv8ZL6_KiHj3yAYLc5Jomi8hJ5acvrhfI4FThilc\n",
      "\n",
      "Successfully saved authorization token.\n"
     ]
    }
   ],
   "source": [
    "import ee\n",
    "import pandas as pd\n",
    "ee.Authenticate(quiet=True)\n",
    "ee.Initialize()"
   ]
  },
  {
   "cell_type": "code",
   "execution_count": 147,
   "metadata": {},
   "outputs": [],
   "source": [
    "icesat_modis['query_start_date'] = icesat_modis['datetime_modis'] - datetime.timedelta(days=15)\n",
    "icesat_modis['query_end_date'] = icesat_modis['datetime_modis'] + datetime.timedelta(days=15)\n",
    "\n",
    "icesat_modis['start_day'] = pd.DatetimeIndex(icesat_modis['query_start_date']).day.astype(str).str.zfill(2)\n",
    "icesat_modis['end_day'] = pd.DatetimeIndex(icesat_modis['query_end_date']).day.astype(str).str.zfill(2)\n",
    "\n",
    "icesat_modis['start_month'] = pd.DatetimeIndex(icesat_modis['query_start_date']).month.astype(str).str.zfill(2)\n",
    "icesat_modis['end_month'] = pd.DatetimeIndex(icesat_modis['query_end_date']).month.astype(str).str.zfill(2)\n",
    "\n",
    "icesat_modis['start_year'] = pd.DatetimeIndex(icesat_modis['query_start_date']).year.astype(str)\n",
    "icesat_modis['end_year'] = pd.DatetimeIndex(icesat_modis['query_end_date']).year.astype(str)"
   ]
  },
  {
   "cell_type": "code",
   "execution_count": 255,
   "metadata": {},
   "outputs": [],
   "source": [
    "from ee import EEException\n",
    "\n",
    "def getLandsatData(row):\n",
    "    try:\n",
    "        landsat = ee.ImageCollection(\"LANDSAT/LC08/C02/T1_L2\").select(['SR_B1', 'SR_B2', 'SR_B3', 'SR_B4', 'SR_B5', 'SR_B7', 'QA_PIXEL'])\n",
    "        image = landsat.filterBounds(geometry=ee.Geometry.Point([row['lons'], row['lats']])).filterDate(f\"{row['start_year']}-{row['start_month']}-{row['start_day']}\", f\"{row['end_year']}-{row['end_month']}-{row['end_day']}\")\n",
    "        data = image.getRegion(geometry=ee.Geometry.Point([row['lons'], row['lats']]), scale=100).getInfo()\n",
    "        df = pd.DataFrame(data[1:], columns = data[0])\n",
    "        df['datetime'] = df.time.apply(lambda x: datetime.datetime.fromtimestamp(x/1000))\n",
    "        if df.shape[0] > 1:\n",
    "            time_deltas = {}\n",
    "            for i in range(df.shape[0]):\n",
    "                time_deltas[i] = np.abs((df['datetime'].values[i] - test['datetime_modis']).values)\n",
    "            ind = min(time_deltas, key=time_deltas.get)\n",
    "            row['SR_B1'] = df.iloc[ind,]['SR_B1']\n",
    "            row['SR_B2'] = df.iloc[ind,]['SR_B2']\n",
    "            row['SR_B3'] = df.iloc[ind,]['SR_B3']\n",
    "            row['SR_B4'] = df.iloc[ind,]['SR_B4']\n",
    "            row['SR_B5'] = df.iloc[ind,]['SR_B5']\n",
    "            row['SR_B7'] = df.iloc[ind,]['SR_B7']\n",
    "            row['QA_PIXEL'] = df.iloc[ind,]['QA_PIXEL']\n",
    "            row['datetime_landsat'] = df.iloc[ind,]['datetime']\n",
    "        elif df.shape[0]==1:\n",
    "            row['SR_B1'] = df.iloc[0,]['SR_B1']\n",
    "            row['SR_B2'] = df.iloc[0,]['SR_B2']\n",
    "            row['SR_B3'] = df.iloc[0,]['SR_B3']\n",
    "            row['SR_B4'] = df.iloc[0,]['SR_B4']\n",
    "            row['SR_B5'] = df.iloc[0,]['SR_B5']\n",
    "            row['SR_B7'] = df.iloc[0,]['SR_B7']\n",
    "            row['QA_PIXEL'] = df.iloc[0,]['QA_PIXEL']\n",
    "            row['datetime_landsat'] = df.iloc[0,]['datetime']\n",
    "        elif df.shape[0]==0:\n",
    "            row['SR_B1'] = np.nan\n",
    "            row['SR_B2'] = np.nan\n",
    "            row['SR_B3'] = np.nan\n",
    "            row['SR_B4'] = np.nan\n",
    "            row['SR_B5'] = np.nan\n",
    "            row['SR_B7'] = np.nan\n",
    "            row['QA_PIXEL'] = np.nan\n",
    "            row['datetime_landsat'] = np.nan\n",
    "        return row\n",
    "    except EEException:\n",
    "        row['SR_B1'] = np.nan\n",
    "        row['SR_B2'] = np.nan\n",
    "        row['SR_B3'] = np.nan\n",
    "        row['SR_B4'] = np.nan\n",
    "        row['SR_B5'] = np.nan\n",
    "        row['SR_B7'] = np.nan\n",
    "        row['QA_PIXEL'] = np.nan\n",
    "        row['datetime_landsat'] = np.nan\n",
    "        return row\n",
    "        "
   ]
  },
  {
   "cell_type": "code",
   "execution_count": 293,
   "metadata": {},
   "outputs": [],
   "source": [
    "icesat_modis = icesat_modis.reset_index(drop=True)"
   ]
  },
  {
   "cell_type": "code",
   "execution_count": null,
   "metadata": {},
   "outputs": [
    {
     "data": {
      "application/vnd.jupyter.widget-view+json": {
       "model_id": "8c830974fffa47ecb4e28dc9876eec05",
       "version_major": 2,
       "version_minor": 0
      },
      "text/plain": [
       "Pandas Apply:   0%|          | 0/855851 [00:00<?, ?it/s]"
      ]
     },
     "metadata": {},
     "output_type": "display_data"
    }
   ],
   "source": [
    "icesat_modis_landsat = icesat_modis.swifter.apply(getLandsatData, axis=1)"
   ]
  },
  {
   "cell_type": "code",
   "execution_count": null,
   "metadata": {},
   "outputs": [],
   "source": [
    "icesat_modis_landsat = icesat_modis_landsat.dropna()\n",
    "icesat_modis_landsat.shape"
   ]
  },
  {
   "cell_type": "code",
   "execution_count": null,
   "metadata": {},
   "outputs": [],
   "source": [
    "icesat_modis_landsat.to_pickle('./files/all_merged_sat_data.pkl')"
   ]
  },
  {
   "cell_type": "code",
   "execution_count": null,
   "metadata": {},
   "outputs": [],
   "source": []
  }
 ],
 "metadata": {
  "kernelspec": {
   "display_name": "Python 3 (ipykernel)",
   "language": "python",
   "name": "python3"
  },
  "language_info": {
   "codemirror_mode": {
    "name": "ipython",
    "version": 3
   },
   "file_extension": ".py",
   "mimetype": "text/x-python",
   "name": "python",
   "nbconvert_exporter": "python",
   "pygments_lexer": "ipython3",
   "version": "3.9.10"
  },
  "vscode": {
   "interpreter": {
    "hash": "89b171d5c5965201530cf70529ac7bb3a826a6844216e1722e4438b0223f446c"
   }
  }
 },
 "nbformat": 4,
 "nbformat_minor": 2
}
