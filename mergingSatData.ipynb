{
 "cells": [
  {
   "cell_type": "markdown",
   "metadata": {},
   "source": [
    "# Pulling Landsat and Modis Data for the Points in the Coral Dataset"
   ]
  },
  {
   "cell_type": "code",
   "execution_count": 250,
   "metadata": {},
   "outputs": [],
   "source": [
    "import geopandas as gpd\n",
    "import pandas as pd\n",
    "import numpy as np\n",
    "import matplotlib.pyplot as plt\n",
    "import datetime\n",
    "import swifter\n",
    "import datetime\n",
    "import geopandas as gpd"
   ]
  },
  {
   "cell_type": "code",
   "execution_count": 308,
   "metadata": {},
   "outputs": [
    {
     "data": {
      "text/html": [
       "<div>\n",
       "<style scoped>\n",
       "    .dataframe tbody tr th:only-of-type {\n",
       "        vertical-align: middle;\n",
       "    }\n",
       "\n",
       "    .dataframe tbody tr th {\n",
       "        vertical-align: top;\n",
       "    }\n",
       "\n",
       "    .dataframe thead th {\n",
       "        text-align: right;\n",
       "    }\n",
       "</style>\n",
       "<table border=\"1\" class=\"dataframe\">\n",
       "  <thead>\n",
       "    <tr style=\"text-align: right;\">\n",
       "      <th></th>\n",
       "      <th></th>\n",
       "      <th>class</th>\n",
       "      <th>geometry</th>\n",
       "      <th>centroid</th>\n",
       "      <th>long</th>\n",
       "      <th>lat</th>\n",
       "      <th>Blue</th>\n",
       "      <th>Green</th>\n",
       "      <th>Red</th>\n",
       "      <th>Near Infrared</th>\n",
       "      <th>Shortwave Infrared 1</th>\n",
       "      <th>Shortwave Infrared 2</th>\n",
       "      <th>QA_PIXEL</th>\n",
       "      <th>datetime_landsat</th>\n",
       "      <th>datetime_landsat_offset</th>\n",
       "    </tr>\n",
       "    <tr>\n",
       "      <th>class</th>\n",
       "      <th></th>\n",
       "      <th></th>\n",
       "      <th></th>\n",
       "      <th></th>\n",
       "      <th></th>\n",
       "      <th></th>\n",
       "      <th></th>\n",
       "      <th></th>\n",
       "      <th></th>\n",
       "      <th></th>\n",
       "      <th></th>\n",
       "      <th></th>\n",
       "      <th></th>\n",
       "      <th></th>\n",
       "      <th></th>\n",
       "    </tr>\n",
       "  </thead>\n",
       "  <tbody>\n",
       "    <tr>\n",
       "      <th rowspan=\"5\" valign=\"top\">Coral</th>\n",
       "      <th>1532057</th>\n",
       "      <td>Coral</td>\n",
       "      <td>POLYGON ((143.853963811 -9.738995321, 143.8540...</td>\n",
       "      <td>POINT (143.85399910162243 -9.739062695)</td>\n",
       "      <td>143.853999</td>\n",
       "      <td>-9.739063</td>\n",
       "      <td>8154.0</td>\n",
       "      <td>8031.0</td>\n",
       "      <td>7140.0</td>\n",
       "      <td>7297.0</td>\n",
       "      <td>7878.0</td>\n",
       "      <td>7867.0</td>\n",
       "      <td>21952.0</td>\n",
       "      <td>2022-09-10 20:33:33.778</td>\n",
       "      <td>9 days 20:33:33.778000</td>\n",
       "    </tr>\n",
       "    <tr>\n",
       "      <th>1227915</th>\n",
       "      <td>Coral</td>\n",
       "      <td>POLYGON ((149.059431388 -20.248834988, 149.059...</td>\n",
       "      <td>POINT (149.0594763035 -20.248879903499994)</td>\n",
       "      <td>149.059476</td>\n",
       "      <td>-20.248880</td>\n",
       "      <td>8557.0</td>\n",
       "      <td>8085.0</td>\n",
       "      <td>7199.0</td>\n",
       "      <td>7224.0</td>\n",
       "      <td>7448.0</td>\n",
       "      <td>7476.0</td>\n",
       "      <td>21952.0</td>\n",
       "      <td>2022-09-07 20:05:25.681</td>\n",
       "      <td>6 days 20:05:25.681000</td>\n",
       "    </tr>\n",
       "    <tr>\n",
       "      <th>1543871</th>\n",
       "      <td>Coral</td>\n",
       "      <td>POLYGON ((143.137961613 -9.350429045, 143.1380...</td>\n",
       "      <td>POINT (143.13809431861569 -9.350418837214875)</td>\n",
       "      <td>143.138094</td>\n",
       "      <td>-9.350419</td>\n",
       "      <td>8736.0</td>\n",
       "      <td>9595.0</td>\n",
       "      <td>7848.0</td>\n",
       "      <td>7227.0</td>\n",
       "      <td>7819.0</td>\n",
       "      <td>7821.0</td>\n",
       "      <td>21952.0</td>\n",
       "      <td>2022-09-10 20:33:09.844</td>\n",
       "      <td>9 days 20:33:09.844000</td>\n",
       "    </tr>\n",
       "    <tr>\n",
       "      <th>1653812</th>\n",
       "      <td>Coral</td>\n",
       "      <td>POLYGON ((143.80222085 -9.609997246, 143.80231...</td>\n",
       "      <td>POINT (143.80228822356247 -9.610154451187496)</td>\n",
       "      <td>143.802288</td>\n",
       "      <td>-9.610154</td>\n",
       "      <td>8215.0</td>\n",
       "      <td>8166.0</td>\n",
       "      <td>7250.0</td>\n",
       "      <td>7433.0</td>\n",
       "      <td>8095.0</td>\n",
       "      <td>8037.0</td>\n",
       "      <td>21952.0</td>\n",
       "      <td>2022-09-10 20:33:09.844</td>\n",
       "      <td>9 days 20:33:09.844000</td>\n",
       "    </tr>\n",
       "    <tr>\n",
       "      <th>2765285</th>\n",
       "      <td>Coral</td>\n",
       "      <td>POLYGON ((144.928977711 -14.455150563, 144.929...</td>\n",
       "      <td>POINT (144.929022627 -14.455195478500002)</td>\n",
       "      <td>144.929023</td>\n",
       "      <td>-14.455195</td>\n",
       "      <td>7975.0</td>\n",
       "      <td>7811.0</td>\n",
       "      <td>7004.0</td>\n",
       "      <td>7164.0</td>\n",
       "      <td>7753.0</td>\n",
       "      <td>7756.0</td>\n",
       "      <td>21952.0</td>\n",
       "      <td>2022-09-12 20:22:24.767</td>\n",
       "      <td>11 days 20:22:24.767000</td>\n",
       "    </tr>\n",
       "  </tbody>\n",
       "</table>\n",
       "</div>"
      ],
      "text/plain": [
       "               class                                           geometry  \\\n",
       "class                                                                     \n",
       "Coral 1532057  Coral  POLYGON ((143.853963811 -9.738995321, 143.8540...   \n",
       "      1227915  Coral  POLYGON ((149.059431388 -20.248834988, 149.059...   \n",
       "      1543871  Coral  POLYGON ((143.137961613 -9.350429045, 143.1380...   \n",
       "      1653812  Coral  POLYGON ((143.80222085 -9.609997246, 143.80231...   \n",
       "      2765285  Coral  POLYGON ((144.928977711 -14.455150563, 144.929...   \n",
       "\n",
       "                                                    centroid        long  \\\n",
       "class                                                                      \n",
       "Coral 1532057        POINT (143.85399910162243 -9.739062695)  143.853999   \n",
       "      1227915     POINT (149.0594763035 -20.248879903499994)  149.059476   \n",
       "      1543871  POINT (143.13809431861569 -9.350418837214875)  143.138094   \n",
       "      1653812  POINT (143.80228822356247 -9.610154451187496)  143.802288   \n",
       "      2765285      POINT (144.929022627 -14.455195478500002)  144.929023   \n",
       "\n",
       "                     lat    Blue   Green     Red  Near Infrared  \\\n",
       "class                                                             \n",
       "Coral 1532057  -9.739063  8154.0  8031.0  7140.0         7297.0   \n",
       "      1227915 -20.248880  8557.0  8085.0  7199.0         7224.0   \n",
       "      1543871  -9.350419  8736.0  9595.0  7848.0         7227.0   \n",
       "      1653812  -9.610154  8215.0  8166.0  7250.0         7433.0   \n",
       "      2765285 -14.455195  7975.0  7811.0  7004.0         7164.0   \n",
       "\n",
       "               Shortwave Infrared 1  Shortwave Infrared 2  QA_PIXEL  \\\n",
       "class                                                                 \n",
       "Coral 1532057                7878.0                7867.0   21952.0   \n",
       "      1227915                7448.0                7476.0   21952.0   \n",
       "      1543871                7819.0                7821.0   21952.0   \n",
       "      1653812                8095.0                8037.0   21952.0   \n",
       "      2765285                7753.0                7756.0   21952.0   \n",
       "\n",
       "                     datetime_landsat datetime_landsat_offset  \n",
       "class                                                          \n",
       "Coral 1532057 2022-09-10 20:33:33.778  9 days 20:33:33.778000  \n",
       "      1227915 2022-09-07 20:05:25.681  6 days 20:05:25.681000  \n",
       "      1543871 2022-09-10 20:33:09.844  9 days 20:33:09.844000  \n",
       "      1653812 2022-09-10 20:33:09.844  9 days 20:33:09.844000  \n",
       "      2765285 2022-09-12 20:22:24.767 11 days 20:22:24.767000  "
      ]
     },
     "execution_count": 308,
     "metadata": {},
     "output_type": "execute_result"
    }
   ],
   "source": [
    "# loading in coral data\n",
    "coral_data = pd.read_pickle('./landsat_allen_50k.pkl')\n",
    "coral_data.head()"
   ]
  },
  {
   "cell_type": "code",
   "execution_count": 310,
   "metadata": {},
   "outputs": [],
   "source": [
    "coral_data['datetime_landsat'].unique()\n",
    "coral_data.replace('NaT', np.nan, inplace=True)\n",
    "coral_data = coral_data.dropna(subset=['datetime_landsat'])\n",
    "\n",
    "coral_data['day'] = coral_data['datetime_landsat'].dt.day.astype(str).str.zfill(2)\n",
    "coral_data['month'] = coral_data['datetime_landsat'].dt.month.astype(str).str.zfill(2)\n",
    "coral_data['year'] = coral_data['datetime_landsat'].dt.year.astype(str).str.zfill(4)"
   ]
  },
  {
   "cell_type": "markdown",
   "metadata": {},
   "source": [
    "## Adding MODIS Surface Reflectance Data from Google Earth Engine"
   ]
  },
  {
   "cell_type": "code",
   "execution_count": 253,
   "metadata": {
    "scrolled": true
   },
   "outputs": [
    {
     "name": "stdout",
     "output_type": "stream",
     "text": [
      "Paste the following address into a web browser:\n",
      "\n",
      "    https://code.earthengine.google.com/client-auth?scopes=https%3A//www.googleapis.com/auth/earthengine%20https%3A//www.googleapis.com/auth/devstorage.full_control&request_id=VhilS8W7-silwzwL7zsOExLjwnmDhB1sgHZzzKYuocs&tc=vN4CwLV73SpEXzaFHIwRa_hjkg8OhEKn_zbrbzBgoDI&cc=iOr1tnlGsOShL8JZ8kM_ddK6u2tdsS4mVKFKE38VJ2c\n",
      "\n",
      "On the web page, please authorize access to your Earth Engine account and copy the authentication code. Next authenticate with the following command:\n",
      "\n",
      "    earthengine authenticate --code-verifier=VhilS8W7-silwzwL7zsOExLjwnmDhB1sgHZzzKYuocs:kaxwdOZEZru4iq39CYxOWZaGyZYX6DsMRACl1F8-eVY:3ukXuw2_ZzvcDhq9VBUZVi_EOrCHoCTiWREspwFFNzc --authorization-code=PLACE_AUTH_CODE_HERE\n",
      "\n",
      "\n",
      "Successfully saved authorization token.\n"
     ]
    }
   ],
   "source": [
    "import ee\n",
    "import pandas as pd\n",
    "ee.Authenticate(quiet=True)\n",
    "ee.Initialize()"
   ]
  },
  {
   "cell_type": "code",
   "execution_count": 315,
   "metadata": {},
   "outputs": [],
   "source": [
    "from ee import EEException\n",
    "\n",
    "def getModisData(row):\n",
    "    try:\n",
    "        modis = ee.ImageCollection(\"MODIS/006/MYDOCGA\").select(['sur_refl_b08', 'sur_refl_b09', 'sur_refl_b10', 'sur_refl_b11',\n",
    "                                                                                'sur_refl_b12', 'sur_refl_b13', 'sur_refl_b14', \n",
    "                                                                                'sur_refl_b15', 'sur_refl_b16'])\n",
    "        date = ee.Date(f\"{row['year']}-{row['month']}-{row['day']}\")\n",
    "        image = modis.filterBounds(geometry=ee.Geometry.Point([row['long'], row['lat']])).filterDate(date, date.advance(1, 'day'))\n",
    "        data = image.getRegion(geometry=ee.Geometry.Point([row['long'], row['lat']]), scale=1000).getInfo()\n",
    "        df = pd.DataFrame(data[1:], columns=data[0])\n",
    "        if df.shape[0] > 1:\n",
    "            row['sur_refl_b08'] = df.iloc[0,]['sur_refl_b08']\n",
    "            row['sur_refl_b09'] = df.iloc[0,]['sur_refl_b09']\n",
    "            row['sur_refl_b10'] = df.iloc[0,]['sur_refl_b10']\n",
    "            row['sur_refl_b11'] = df.iloc[0,]['sur_refl_b11']\n",
    "            row['sur_refl_b12'] = df.iloc[0,]['sur_refl_b12']\n",
    "            row['sur_refl_b13'] = df.iloc[0,]['sur_refl_b13']\n",
    "            row['sur_refl_b14'] = df.iloc[0,]['sur_refl_b14']\n",
    "            row['sur_refl_b15'] = df.iloc[0,]['sur_refl_b15']\n",
    "            row['sur_refl_b16'] = df.iloc[0,]['sur_refl_b16']\n",
    "\n",
    "        elif df.shape[0]==1:\n",
    "            row['sur_refl_b08'] = df.iloc[0,]['sur_refl_b08']\n",
    "            row['sur_refl_b09'] = df.iloc[0,]['sur_refl_b09']\n",
    "            row['sur_refl_b10'] = df.iloc[0,]['sur_refl_b10']\n",
    "            row['sur_refl_b11'] = df.iloc[0,]['sur_refl_b11']\n",
    "            row['sur_refl_b12'] = df.iloc[0,]['sur_refl_b12']\n",
    "            row['sur_refl_b13'] = df.iloc[0,]['sur_refl_b13']\n",
    "            row['sur_refl_b14'] = df.iloc[0,]['sur_refl_b14']\n",
    "            row['sur_refl_b15'] = df.iloc[0,]['sur_refl_b15']\n",
    "            row['sur_refl_b16'] = df.iloc[0,]['sur_refl_b16']\n",
    "        elif df.shape[0]==0:\n",
    "            row['sur_refl_b08'] = np.nan\n",
    "            row['sur_refl_b09'] = np.nan\n",
    "            row['sur_refl_b10'] = np.nan\n",
    "            row['sur_refl_b11'] = np.nan\n",
    "            row['sur_refl_b12'] = np.nan\n",
    "            row['sur_refl_b13'] = np.nan\n",
    "            row['sur_refl_b14'] = np.nan\n",
    "            row['sur_refl_b15'] = np.nan\n",
    "            row['sur_refl_b16'] = np.nan\n",
    "        return row\n",
    "    except EEException:\n",
    "        row['sur_refl_b08'] = np.nan\n",
    "        row['sur_refl_b09'] = np.nan\n",
    "        row['sur_refl_b10'] = np.nan\n",
    "        row['sur_refl_b11'] = np.nan\n",
    "        row['sur_refl_b12'] = np.nan\n",
    "        row['sur_refl_b13'] = np.nan\n",
    "        row['sur_refl_b14'] = np.nan\n",
    "        row['sur_refl_b15'] = np.nan\n",
    "        row['sur_refl_b16'] = np.nan    \n",
    "        return row"
   ]
  },
  {
   "cell_type": "code",
   "execution_count": 316,
   "metadata": {},
   "outputs": [
    {
     "name": "stderr",
     "output_type": "stream",
     "text": [
      "Pandas Apply: 100%|██████████| 24268/24268 [1:07:13<00:00,  6.02it/s]\n"
     ]
    }
   ],
   "source": [
    "coral_data = coral_data.swifter.apply(getModisData, axis=1)"
   ]
  },
  {
   "cell_type": "code",
   "execution_count": 317,
   "metadata": {},
   "outputs": [],
   "source": [
    "coral_data.to_pickle('./landsat_allen_modis_50k_1.pkl')"
   ]
  },
  {
   "cell_type": "markdown",
   "metadata": {},
   "source": [
    "### Adding MODIS Chlorophyll A concentration and Sea Surface Temperature Data from Earth Engine"
   ]
  },
  {
   "cell_type": "code",
   "execution_count": 81,
   "metadata": {},
   "outputs": [],
   "source": [
    "from ee import EEException\n",
    "def getChlorData(row):\n",
    "    try:\n",
    "        chlor = ee.ImageCollection(\"NASA/OCEANDATA/MODIS-Aqua/L3SMI\").select(['chlor_a', 'sst'])\n",
    "        date = ee.Date(f\"{row['year']}-{row['month']}-{row['day']}\")\n",
    "        image = chlor.filterBounds(geometry=ee.Geometry.Point([row['Longitude_Degrees'], row['Latitude_Degrees']])).filterDate(date, date.advance(1, 'day'))\n",
    "        data = image.getRegion(geometry=ee.Geometry.Point([row['Longitude_Degrees'], row['Latitude_Degrees']]), scale=5000).getInfo()\n",
    "        df = pd.DataFrame(data[1:], columns=data[0])\n",
    "        if df.shape[0] > 1:\n",
    "            row['chlor_a'] = df.iloc[0,]['chlor_a']\n",
    "            row['sst'] = df.iloc[0,]['sst']\n",
    "        elif df.shape[0]==1:\n",
    "            row['chlor_a'] = df.iloc[0,]['chlor_a']\n",
    "            row['sst'] = df.iloc[0,]['sst']\n",
    "        elif df.shape[0]==0:\n",
    "            row['chlor_a'] = np.nan\n",
    "            row['sst'] = np.nan\n",
    "        return row\n",
    "    except EEException:\n",
    "        row['chlor_a'] = np.nan\n",
    "        row['sst'] = np.nan\n",
    "        return row"
   ]
  },
  {
   "cell_type": "code",
   "execution_count": 83,
   "metadata": {},
   "outputs": [
    {
     "name": "stderr",
     "output_type": "stream",
     "text": [
      "Pandas Apply: 100%|██████████| 13462/13462 [37:56<00:00,  5.91it/s]  \n"
     ]
    }
   ],
   "source": [
    "coral_data = coral_data.swifter.apply(getChlorData, axis=1)"
   ]
  },
  {
   "cell_type": "code",
   "execution_count": 84,
   "metadata": {},
   "outputs": [],
   "source": [
    "coral_data.to_csv('./coral_data_with_modis_features.csv', index=False)"
   ]
  },
  {
   "cell_type": "code",
   "execution_count": 202,
   "metadata": {},
   "outputs": [
    {
     "data": {
      "text/plain": [
       "1    7329\n",
       "0    6133\n",
       "Name: coral_presence, dtype: int64"
      ]
     },
     "execution_count": 202,
     "metadata": {},
     "output_type": "execute_result"
    }
   ],
   "source": [
    "coral_data['coral_presence'].value_counts()"
   ]
  },
  {
   "cell_type": "markdown",
   "metadata": {},
   "source": [
    "### Combining With Landsat Features"
   ]
  },
  {
   "cell_type": "code",
   "execution_count": null,
   "metadata": {},
   "outputs": [],
   "source": []
  }
 ],
 "metadata": {
  "kernelspec": {
   "display_name": "Python 3 (ipykernel)",
   "language": "python",
   "name": "python3"
  },
  "language_info": {
   "codemirror_mode": {
    "name": "ipython",
    "version": 3
   },
   "file_extension": ".py",
   "mimetype": "text/x-python",
   "name": "python",
   "nbconvert_exporter": "python",
   "pygments_lexer": "ipython3",
   "version": "3.9.10"
  },
  "vscode": {
   "interpreter": {
    "hash": "89b171d5c5965201530cf70529ac7bb3a826a6844216e1722e4438b0223f446c"
   }
  }
 },
 "nbformat": 4,
 "nbformat_minor": 2
}
