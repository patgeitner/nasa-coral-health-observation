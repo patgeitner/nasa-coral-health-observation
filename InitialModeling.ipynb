{
 "cells": [
  {
   "cell_type": "markdown",
   "metadata": {},
   "source": [
    "# Initial Modeling Attempts Using Landsat + Modis Features to Predict Coral Presence and Bleaching Using GCBD Data"
   ]
  },
  {
   "cell_type": "code",
   "execution_count": 409,
   "metadata": {},
   "outputs": [],
   "source": [
    "import pandas as pd\n",
    "import numpy as np\n",
    "import matplotlib.pyplot as plt\n",
    "import geopandas as gpd"
   ]
  },
  {
   "cell_type": "markdown",
   "metadata": {},
   "source": [
    "### Loading in Coral Dataset With Modis and Landsat Features"
   ]
  },
  {
   "cell_type": "code",
   "execution_count": 328,
   "metadata": {},
   "outputs": [
    {
     "data": {
      "text/html": [
       "<div>\n",
       "<style scoped>\n",
       "    .dataframe tbody tr th:only-of-type {\n",
       "        vertical-align: middle;\n",
       "    }\n",
       "\n",
       "    .dataframe tbody tr th {\n",
       "        vertical-align: top;\n",
       "    }\n",
       "\n",
       "    .dataframe thead th {\n",
       "        text-align: right;\n",
       "    }\n",
       "</style>\n",
       "<table border=\"1\" class=\"dataframe\">\n",
       "  <thead>\n",
       "    <tr style=\"text-align: right;\">\n",
       "      <th></th>\n",
       "      <th>Latitude_Degrees</th>\n",
       "      <th>Longitude_Degrees</th>\n",
       "      <th>Date</th>\n",
       "      <th>Percent_Bleached_Sum_x</th>\n",
       "      <th>geometry_x</th>\n",
       "      <th>coral_presence_x</th>\n",
       "      <th>day</th>\n",
       "      <th>month</th>\n",
       "      <th>year</th>\n",
       "      <th>sur_refl_b08</th>\n",
       "      <th>...</th>\n",
       "      <th>NDVIMNDWI</th>\n",
       "      <th>NDWI</th>\n",
       "      <th>NDWIns</th>\n",
       "      <th>NWI</th>\n",
       "      <th>SWM</th>\n",
       "      <th>WI1</th>\n",
       "      <th>WI2</th>\n",
       "      <th>WRI</th>\n",
       "      <th>datetime_landsat</th>\n",
       "      <th>satellite</th>\n",
       "    </tr>\n",
       "  </thead>\n",
       "  <tbody>\n",
       "    <tr>\n",
       "      <th>0</th>\n",
       "      <td>-18.54628</td>\n",
       "      <td>146.48752</td>\n",
       "      <td>2002-02-15</td>\n",
       "      <td>5.0</td>\n",
       "      <td>POINT (146.48752 -18.54628)</td>\n",
       "      <td>1.0</td>\n",
       "      <td>15.0</td>\n",
       "      <td>2.0</td>\n",
       "      <td>2002.0</td>\n",
       "      <td>NaN</td>\n",
       "      <td>...</td>\n",
       "      <td>-0.043600</td>\n",
       "      <td>0.042831</td>\n",
       "      <td>0.473557</td>\n",
       "      <td>-0.458460</td>\n",
       "      <td>1.102316</td>\n",
       "      <td>0.047925</td>\n",
       "      <td>0.056155</td>\n",
       "      <td>1.045674</td>\n",
       "      <td>2002-02-27 00:05:46.058000+00:00</td>\n",
       "      <td>Landsat7</td>\n",
       "    </tr>\n",
       "    <tr>\n",
       "      <th>1</th>\n",
       "      <td>-18.44480</td>\n",
       "      <td>146.99328</td>\n",
       "      <td>2002-02-15</td>\n",
       "      <td>37.5</td>\n",
       "      <td>POINT (146.99328 -18.4448)</td>\n",
       "      <td>1.0</td>\n",
       "      <td>15.0</td>\n",
       "      <td>2.0</td>\n",
       "      <td>2002.0</td>\n",
       "      <td>NaN</td>\n",
       "      <td>...</td>\n",
       "      <td>-0.141165</td>\n",
       "      <td>0.111533</td>\n",
       "      <td>0.511343</td>\n",
       "      <td>-0.422019</td>\n",
       "      <td>1.231714</td>\n",
       "      <td>0.116840</td>\n",
       "      <td>0.102922</td>\n",
       "      <td>1.155900</td>\n",
       "      <td>2002-02-19 23:59:26.151000+00:00</td>\n",
       "      <td>Landsat7</td>\n",
       "    </tr>\n",
       "    <tr>\n",
       "      <th>2</th>\n",
       "      <td>-18.44432</td>\n",
       "      <td>146.99333</td>\n",
       "      <td>2002-02-15</td>\n",
       "      <td>37.5</td>\n",
       "      <td>POINT (146.99333 -18.44432)</td>\n",
       "      <td>1.0</td>\n",
       "      <td>15.0</td>\n",
       "      <td>2.0</td>\n",
       "      <td>2002.0</td>\n",
       "      <td>NaN</td>\n",
       "      <td>...</td>\n",
       "      <td>-0.112125</td>\n",
       "      <td>0.109274</td>\n",
       "      <td>0.510101</td>\n",
       "      <td>-0.408188</td>\n",
       "      <td>1.247843</td>\n",
       "      <td>0.098327</td>\n",
       "      <td>0.112007</td>\n",
       "      <td>1.123989</td>\n",
       "      <td>2002-02-19 23:59:26.151000+00:00</td>\n",
       "      <td>Landsat7</td>\n",
       "    </tr>\n",
       "    <tr>\n",
       "      <th>3</th>\n",
       "      <td>-23.20148</td>\n",
       "      <td>150.97010</td>\n",
       "      <td>2002-02-15</td>\n",
       "      <td>75.0</td>\n",
       "      <td>POINT (150.9701 -23.20148)</td>\n",
       "      <td>1.0</td>\n",
       "      <td>15.0</td>\n",
       "      <td>2.0</td>\n",
       "      <td>2002.0</td>\n",
       "      <td>NaN</td>\n",
       "      <td>...</td>\n",
       "      <td>-0.704783</td>\n",
       "      <td>0.311133</td>\n",
       "      <td>0.621123</td>\n",
       "      <td>-0.125535</td>\n",
       "      <td>2.082294</td>\n",
       "      <td>0.507574</td>\n",
       "      <td>0.507574</td>\n",
       "      <td>2.082294</td>\n",
       "      <td>2002-03-02 23:42:14.385000+00:00</td>\n",
       "      <td>Landsat7</td>\n",
       "    </tr>\n",
       "    <tr>\n",
       "      <th>4</th>\n",
       "      <td>24.62700</td>\n",
       "      <td>-81.11000</td>\n",
       "      <td>2004-08-15</td>\n",
       "      <td>17.5</td>\n",
       "      <td>POINT (-81.11 24.627)</td>\n",
       "      <td>1.0</td>\n",
       "      <td>15.0</td>\n",
       "      <td>8.0</td>\n",
       "      <td>2004.0</td>\n",
       "      <td>1041.0</td>\n",
       "      <td>...</td>\n",
       "      <td>-0.196979</td>\n",
       "      <td>0.157958</td>\n",
       "      <td>0.536877</td>\n",
       "      <td>-0.360449</td>\n",
       "      <td>1.395649</td>\n",
       "      <td>0.154680</td>\n",
       "      <td>0.167596</td>\n",
       "      <td>1.228442</td>\n",
       "      <td>2004-08-26 15:39:11.911000+00:00</td>\n",
       "      <td>Landsat7</td>\n",
       "    </tr>\n",
       "  </tbody>\n",
       "</table>\n",
       "<p>5 rows × 48 columns</p>\n",
       "</div>"
      ],
      "text/plain": [
       "   Latitude_Degrees  Longitude_Degrees       Date  Percent_Bleached_Sum_x  \\\n",
       "0         -18.54628          146.48752 2002-02-15                     5.0   \n",
       "1         -18.44480          146.99328 2002-02-15                    37.5   \n",
       "2         -18.44432          146.99333 2002-02-15                    37.5   \n",
       "3         -23.20148          150.97010 2002-02-15                    75.0   \n",
       "4          24.62700          -81.11000 2004-08-15                    17.5   \n",
       "\n",
       "                    geometry_x  coral_presence_x   day  month    year  \\\n",
       "0  POINT (146.48752 -18.54628)               1.0  15.0    2.0  2002.0   \n",
       "1   POINT (146.99328 -18.4448)               1.0  15.0    2.0  2002.0   \n",
       "2  POINT (146.99333 -18.44432)               1.0  15.0    2.0  2002.0   \n",
       "3   POINT (150.9701 -23.20148)               1.0  15.0    2.0  2002.0   \n",
       "4        POINT (-81.11 24.627)               1.0  15.0    8.0  2004.0   \n",
       "\n",
       "   sur_refl_b08  ...  NDVIMNDWI      NDWI    NDWIns       NWI       SWM  \\\n",
       "0           NaN  ...  -0.043600  0.042831  0.473557 -0.458460  1.102316   \n",
       "1           NaN  ...  -0.141165  0.111533  0.511343 -0.422019  1.231714   \n",
       "2           NaN  ...  -0.112125  0.109274  0.510101 -0.408188  1.247843   \n",
       "3           NaN  ...  -0.704783  0.311133  0.621123 -0.125535  2.082294   \n",
       "4        1041.0  ...  -0.196979  0.157958  0.536877 -0.360449  1.395649   \n",
       "\n",
       "        WI1       WI2       WRI                 datetime_landsat  satellite  \n",
       "0  0.047925  0.056155  1.045674 2002-02-27 00:05:46.058000+00:00   Landsat7  \n",
       "1  0.116840  0.102922  1.155900 2002-02-19 23:59:26.151000+00:00   Landsat7  \n",
       "2  0.098327  0.112007  1.123989 2002-02-19 23:59:26.151000+00:00   Landsat7  \n",
       "3  0.507574  0.507574  2.082294 2002-03-02 23:42:14.385000+00:00   Landsat7  \n",
       "4  0.154680  0.167596  1.228442 2004-08-26 15:39:11.911000+00:00   Landsat7  \n",
       "\n",
       "[5 rows x 48 columns]"
      ]
     },
     "execution_count": 328,
     "metadata": {},
     "output_type": "execute_result"
    }
   ],
   "source": [
    "df = pd.read_pickle('./landsat_modis_merged.pkl')\n",
    "df.head()"
   ]
  },
  {
   "cell_type": "markdown",
   "metadata": {},
   "source": [
    "### Testing Models for Coral Presence"
   ]
  },
  {
   "cell_type": "code",
   "execution_count": 329,
   "metadata": {},
   "outputs": [],
   "source": [
    "coral_presence_cols = ['sur_refl_b08', 'sur_refl_b09', 'sur_refl_b10',\n",
    "       'sur_refl_b11', 'sur_refl_b12', 'sur_refl_b13', 'sur_refl_b14',\n",
    "       'sur_refl_b15', 'sur_refl_b16', 'Blue',\n",
    "       'Green', 'Red', 'Near Infrared', 'Shortwave Infrared 1',\n",
    "       'Shortwave Infrared 2', 'QA_PIXEL', 'AWEInsh', 'AWEIsh', 'LSWI', 'MBWI',\n",
    "       'MLSWI26', 'MLSWI27', 'MNDWI', 'MuWIR', 'NDVIMNDWI', 'NDWI', 'NDWIns',\n",
    "       'NWI', 'SWM', 'WI1', 'WI2', 'WRI', 'Date', 'coral_presence_x']\n",
    "# df = df.replace(-100, 0)\n",
    "df_presence = df[coral_presence_cols]\n",
    "df_presence = df_presence.dropna()"
   ]
  },
  {
   "cell_type": "code",
   "execution_count": 388,
   "metadata": {},
   "outputs": [
    {
     "data": {
      "text/plain": [
       "(Timestamp('2003-03-13 00:00:00'), Timestamp('2019-08-24 00:00:00'))"
      ]
     },
     "execution_count": 388,
     "metadata": {},
     "output_type": "execute_result"
    }
   ],
   "source": [
    "df_presence['Date'].min(), df_presence['Date'].max()"
   ]
  },
  {
   "cell_type": "code",
   "execution_count": 330,
   "metadata": {},
   "outputs": [],
   "source": [
    "from sklearn.model_selection import train_test_split\n",
    "\n",
    "test_presence = df_presence[df_presence['Date'] > '2016-01-01']\n",
    "valid_presence = df_presence[(df_presence['Date'] > '2014-01-01') & (df_presence['Date'] < '2016-01-01')]\n",
    "train_presence = df_presence[df_presence['Date'] < '2014-01-01']"
   ]
  },
  {
   "cell_type": "code",
   "execution_count": 331,
   "metadata": {},
   "outputs": [
    {
     "name": "stdout",
     "output_type": "stream",
     "text": [
      "Train Proportion = 0.72\n",
      "Test Proportion = 0.11\n",
      "Validation Proportion = 0.16\n"
     ]
    }
   ],
   "source": [
    "print(f'Train Proportion = {train_presence.shape[0] / df_presence.shape[0]:.2f}')\n",
    "print(f'Test Proportion = {test_presence.shape[0] / df_presence.shape[0]:.2f}')\n",
    "print(f'Validation Proportion = {valid_presence.shape[0] / df_presence.shape[0]:.2f}')"
   ]
  },
  {
   "cell_type": "code",
   "execution_count": 332,
   "metadata": {},
   "outputs": [],
   "source": [
    "features = ['sur_refl_b08', 'sur_refl_b09', 'sur_refl_b10',\n",
    "       'sur_refl_b11', 'sur_refl_b12', 'sur_refl_b13', 'sur_refl_b14',\n",
    "       'sur_refl_b15', 'sur_refl_b16', 'Blue',\n",
    "       'Green', 'Red', 'Near Infrared', 'Shortwave Infrared 1',\n",
    "       'Shortwave Infrared 2', 'QA_PIXEL', 'AWEInsh', 'AWEIsh', 'LSWI', 'MBWI',\n",
    "       'MLSWI26', 'MLSWI27', 'MNDWI', 'MuWIR', 'NDVIMNDWI', 'NDWI', 'NDWIns',\n",
    "       'NWI', 'SWM', 'WI1', 'WI2', 'WRI']\n",
    "X = train_presence[features]\n",
    "y = train_presence['coral_presence_x']"
   ]
  },
  {
   "cell_type": "code",
   "execution_count": 333,
   "metadata": {},
   "outputs": [],
   "source": [
    "X_valid = valid_presence[features]\n",
    "y_valid = valid_presence['coral_presence_x']"
   ]
  },
  {
   "cell_type": "code",
   "execution_count": 340,
   "metadata": {},
   "outputs": [
    {
     "name": "stderr",
     "output_type": "stream",
     "text": [
      "/Users/patrickgeitner/miniforge3/lib/python3.9/site-packages/xgboost/sklearn.py:1146: UserWarning: The use of label encoder in XGBClassifier is deprecated and will be removed in a future release. To remove this warning, do the following: 1) Pass option use_label_encoder=False when constructing XGBClassifier object; and 2) Encode your labels (y) as integers starting with 0, i.e. 0, 1, 2, ..., [num_class - 1].\n",
      "  warnings.warn(label_encoder_deprecation_msg, UserWarning)\n",
      "/Users/patrickgeitner/miniforge3/lib/python3.9/site-packages/xgboost/data.py:208: FutureWarning: pandas.Int64Index is deprecated and will be removed from pandas in a future version. Use pandas.Index with the appropriate dtype instead.\n",
      "  from pandas import MultiIndex, Int64Index\n"
     ]
    },
    {
     "name": "stdout",
     "output_type": "stream",
     "text": [
      "[19:08:34] WARNING: /Users/patrickgeitner/xgboost-1.4.2/build/temp.macosx-11.0-arm64-3.9/xgboost/src/learner.cc:1095: Starting in XGBoost 1.3.0, the default evaluation metric used with the objective 'binary:logistic' was changed from 'error' to 'logloss'. Explicitly set eval_metric if you'd like to restore the old behavior.\n"
     ]
    },
    {
     "data": {
      "text/plain": [
       "XGBClassifier(base_score=0.5, booster='gbtree', colsample_bylevel=1,\n",
       "              colsample_bynode=1, colsample_bytree=1, gamma=0, gpu_id=-1,\n",
       "              importance_type='gain', interaction_constraints='',\n",
       "              learning_rate=0.001, max_delta_step=0, max_depth=20,\n",
       "              min_child_weight=1, missing=nan, monotone_constraints='()',\n",
       "              n_estimators=400, n_jobs=1, num_parallel_tree=1, random_state=50,\n",
       "              reg_alpha=10, reg_lambda=10, scale_pos_weight=1, subsample=1,\n",
       "              tree_method='exact', validate_parameters=1, verbosity=None)"
      ]
     },
     "execution_count": 340,
     "metadata": {},
     "output_type": "execute_result"
    }
   ],
   "source": [
    "import xgboost as xgb\n",
    "\n",
    "xgb_model = xgb.XGBClassifier(objective=\"binary:logistic\", random_state=50, reg_alpha=10, reg_lambda=10, max_depth=20, n_estimators=400, learning_rate=0.001)\n",
    "xgb_model.fit(X, y)"
   ]
  },
  {
   "cell_type": "code",
   "execution_count": 341,
   "metadata": {},
   "outputs": [
    {
     "name": "stdout",
     "output_type": "stream",
     "text": [
      "Training Accuracy = 0.66\n"
     ]
    }
   ],
   "source": [
    "print(f'Training Accuracy = {xgb_model.score(X, y):.2f}')"
   ]
  },
  {
   "cell_type": "code",
   "execution_count": 342,
   "metadata": {},
   "outputs": [
    {
     "name": "stdout",
     "output_type": "stream",
     "text": [
      "Validation Accuracy = 0.57\n"
     ]
    }
   ],
   "source": [
    "print(f'Validation Accuracy = {xgb_model.score(X_valid, y_valid):.2f}')"
   ]
  },
  {
   "cell_type": "code",
   "execution_count": 343,
   "metadata": {},
   "outputs": [
    {
     "data": {
      "image/png": "[encoded data removed]",
      "text/plain": [
       "<Figure size 432x288 with 1 Axes>"
      ]
     },
     "metadata": {
      "needs_background": "light"
     },
     "output_type": "display_data"
    }
   ],
   "source": [
    "from sklearn.metrics import roc_curve, auc\n",
    "from sklearn.metrics import roc_auc_score\n",
    "\n",
    "y_pred = xgb_model.predict_proba(X_valid)[:,1]\n",
    "fpr, tpr, thresholds = roc_curve(y_valid, y_pred)\n",
    "roc_auc = auc(fpr, tpr)\n",
    "\n",
    "plt.figure()\n",
    "plt.plot(fpr, tpr, color='darkorange', lw=2, label='ROC curve (area = %0.2f)' % roc_auc)\n",
    "plt.plot([0, 1], [0, 1], color='navy', lw=2, linestyle='--')\n",
    "plt.xlim([0.0, 1.0])\n",
    "plt.ylim([0.0, 1.05])\n",
    "plt.xlabel('False Positive Rate')\n",
    "plt.ylabel('True Positive Rate')\n",
    "plt.title('ROC Curve') \n",
    "plt.legend(loc=\"lower right\")\n",
    "plt.show()"
   ]
  },
  {
   "cell_type": "code",
   "execution_count": 344,
   "metadata": {},
   "outputs": [
    {
     "data": {
      "image/png": "[encoded data removed]",
      "text/plain": [
       "<Figure size 432x288 with 2 Axes>"
      ]
     },
     "metadata": {
      "needs_background": "light"
     },
     "output_type": "display_data"
    }
   ],
   "source": [
    "# plotting the confusion matrix\n",
    "from sklearn.metrics import confusion_matrix\n",
    "import seaborn as sns\n",
    "\n",
    "y_pred = xgb_model.predict(X_valid)\n",
    "cm = confusion_matrix(y_valid, y_pred)\n",
    "sns.heatmap(cm, annot=True, fmt='d', cmap='Blues')\n",
    "plt.xlabel('Predicted')\n",
    "plt.ylabel('Actual')\n",
    "plt.show()"
   ]
  },
  {
   "cell_type": "code",
   "execution_count": 56,
   "metadata": {},
   "outputs": [
    {
     "name": "stdout",
     "output_type": "stream",
     "text": [
      "Validation Precision = 0.63\n",
      "Validation Recall = 0.71\n"
     ]
    }
   ],
   "source": [
    "# calculating precision and recall\n",
    "from sklearn.metrics import precision_score\n",
    "from sklearn.metrics import recall_score\n",
    "precision = precision_score(y_valid, y_pred)\n",
    "recall = recall_score(y_valid, y_pred)\n",
    "print(f'Validation Precision = {precision:.2f}')\n",
    "print(f'Validation Recall = {recall:.2f}')"
   ]
  },
  {
   "cell_type": "markdown",
   "metadata": {},
   "source": [
    "### Testing Models for Coral Bleaching"
   ]
  },
  {
   "cell_type": "code",
   "execution_count": 389,
   "metadata": {},
   "outputs": [],
   "source": [
    "coral_bleaching_cols = ['sur_refl_b08', 'sur_refl_b09', 'sur_refl_b10',\n",
    "       'sur_refl_b11', 'sur_refl_b12', 'sur_refl_b13', 'sur_refl_b14',\n",
    "       'sur_refl_b15', 'sur_refl_b16', 'Blue',\n",
    "       'Green', 'Red', 'Near Infrared', 'Shortwave Infrared 1',\n",
    "       'Shortwave Infrared 2', 'QA_PIXEL', 'AWEInsh', 'AWEIsh', 'LSWI', 'MBWI',\n",
    "       'MLSWI26', 'MLSWI27', 'MNDWI', 'MuWIR', 'NDVIMNDWI', 'NDWI', 'NDWIns',\n",
    "       'NWI', 'SWM', 'WI1', 'WI2', 'WRI', 'Date', 'Percent_Bleached_Sum_x', 'chlor_a', 'sst']\n",
    "df = df.replace(-100, 0)\n",
    "df_bleaching = df[coral_bleaching_cols]\n",
    "df_bleaching = df_bleaching.dropna()"
   ]
  },
  {
   "cell_type": "code",
   "execution_count": 390,
   "metadata": {},
   "outputs": [
    {
     "data": {
      "text/plain": [
       "(1084, 36)"
      ]
     },
     "execution_count": 390,
     "metadata": {},
     "output_type": "execute_result"
    }
   ],
   "source": [
    "df_bleaching.shape"
   ]
  },
  {
   "cell_type": "code",
   "execution_count": 391,
   "metadata": {},
   "outputs": [
    {
     "data": {
      "text/plain": [
       "(Timestamp('2003-05-15 00:00:00'), Timestamp('2018-01-23 00:00:00'))"
      ]
     },
     "execution_count": 391,
     "metadata": {},
     "output_type": "execute_result"
    }
   ],
   "source": [
    "df_bleaching['Date'].min(), df_bleaching['Date'].max()"
   ]
  },
  {
   "cell_type": "code",
   "execution_count": 392,
   "metadata": {},
   "outputs": [],
   "source": [
    "test_bleaching = df_bleaching[df_bleaching['Date'] > '2016-01-01']\n",
    "valid_bleaching = df_bleaching[(df_bleaching['Date'] > '2014-01-01') & (df_bleaching['Date'] < '2016-01-01')]\n",
    "train_bleaching = df_bleaching[df_bleaching['Date'] < '2014-01-01']"
   ]
  },
  {
   "cell_type": "code",
   "execution_count": 393,
   "metadata": {},
   "outputs": [],
   "source": [
    "features = ['sur_refl_b08', 'sur_refl_b09', 'sur_refl_b10',\n",
    "       'sur_refl_b11', 'sur_refl_b12', 'sur_refl_b13', 'sur_refl_b14',\n",
    "       'sur_refl_b15', 'sur_refl_b16', 'Blue',\n",
    "       'Green', 'Red', 'Near Infrared', 'Shortwave Infrared 1',\n",
    "       'Shortwave Infrared 2', 'QA_PIXEL', 'AWEInsh', 'AWEIsh', 'LSWI', 'MBWI',\n",
    "       'MLSWI26', 'MLSWI27', 'MNDWI', 'MuWIR', 'NDVIMNDWI', 'NDWI', 'NDWIns',\n",
    "       'NWI', 'SWM', 'WI1', 'WI2', 'WRI', 'chlor_a', 'sst',]\n",
    "X = train_bleaching[features]\n",
    "y = train_bleaching['Percent_Bleached_Sum_x'] / 100"
   ]
  },
  {
   "cell_type": "code",
   "execution_count": 394,
   "metadata": {},
   "outputs": [
    {
     "data": {
      "text/plain": [
       "34"
      ]
     },
     "execution_count": 394,
     "metadata": {},
     "output_type": "execute_result"
    }
   ],
   "source": [
    "len(features)"
   ]
  },
  {
   "cell_type": "code",
   "execution_count": 395,
   "metadata": {},
   "outputs": [],
   "source": [
    "X_valid = valid_bleaching[features]\n",
    "y_valid = valid_bleaching['Percent_Bleached_Sum_x'] / 100"
   ]
  },
  {
   "cell_type": "code",
   "execution_count": 396,
   "metadata": {},
   "outputs": [
    {
     "name": "stderr",
     "output_type": "stream",
     "text": [
      "/Users/patrickgeitner/miniforge3/lib/python3.9/site-packages/xgboost/data.py:208: FutureWarning: pandas.Int64Index is deprecated and will be removed from pandas in a future version. Use pandas.Index with the appropriate dtype instead.\n",
      "  from pandas import MultiIndex, Int64Index\n"
     ]
    },
    {
     "data": {
      "text/plain": [
       "XGBRegressor(base_score=0.5, booster='gbtree', colsample_bylevel=1,\n",
       "             colsample_bynode=1, colsample_bytree=1, gamma=0, gpu_id=-1,\n",
       "             importance_type='gain', interaction_constraints='',\n",
       "             learning_rate=0.01, max_delta_step=0, max_depth=50,\n",
       "             min_child_weight=1, missing=nan, monotone_constraints='()',\n",
       "             n_estimators=400, n_jobs=1, num_parallel_tree=1,\n",
       "             objective='reg:logistic', random_state=42, reg_alpha=4,\n",
       "             reg_lambda=4, scale_pos_weight=1, subsample=1, tree_method='exact',\n",
       "             validate_parameters=1, verbosity=None)"
      ]
     },
     "execution_count": 396,
     "metadata": {},
     "output_type": "execute_result"
    }
   ],
   "source": [
    "from xgboost import XGBRegressor\n",
    "\n",
    "xgb_bleaching = XGBRegressor(objective=\"reg:logistic\", random_state=42, reg_alpha=4, reg_lambda=4, max_depth=50, n_estimators=400, learning_rate=0.01)\n",
    "xgb_bleaching.fit(X, y)"
   ]
  },
  {
   "cell_type": "code",
   "execution_count": 397,
   "metadata": {},
   "outputs": [
    {
     "name": "stdout",
     "output_type": "stream",
     "text": [
      "Model R^2 Score = 0.14\n"
     ]
    }
   ],
   "source": [
    "print(f'Model R^2 Score = {xgb_bleaching.score(X_valid, y_valid):.2f}')"
   ]
  },
  {
   "cell_type": "code",
   "execution_count": 401,
   "metadata": {},
   "outputs": [
    {
     "name": "stdout",
     "output_type": "stream",
     "text": [
      "Validation Mean Absolute Error = 14.93%\n"
     ]
    }
   ],
   "source": [
    "from sklearn.metrics import mean_absolute_error\n",
    "print(f'Validation Mean Absolute Error = {mean_absolute_error(y_valid, xgb_bleaching.predict(X_valid)) * 100:.2f}%')"
   ]
  },
  {
   "cell_type": "code",
   "execution_count": 402,
   "metadata": {},
   "outputs": [
    {
     "data": {
      "text/plain": [
       "12.77502589317137"
      ]
     },
     "execution_count": 402,
     "metadata": {},
     "output_type": "execute_result"
    }
   ],
   "source": [
    "mean_absolute_error(test_bleaching['Percent_Bleached_Sum_x'] / 100, xgb_bleaching.predict(test_bleaching[features])) * 100"
   ]
  },
  {
   "cell_type": "code",
   "execution_count": 403,
   "metadata": {},
   "outputs": [
    {
     "data": {
      "image/png": "[encoded data removed]",
      "text/plain": [
       "<Figure size 576x216 with 1 Axes>"
      ]
     },
     "metadata": {
      "needs_background": "light"
     },
     "output_type": "display_data"
    }
   ],
   "source": [
    "fig, ax = plt.subplots()\n",
    "# making figure larger\n",
    "fig.set_size_inches(8, 3)\n",
    "sns.kdeplot(train_bleaching['Percent_Bleached_Sum_x'] / 100, shade=True, label='Predicted', levels=5, clip=(0.0, 1.0))\n",
    "\n",
    "plt.xlabel('Percent Bleached')\n",
    "plt.ylabel('Density')\n",
    "plt.title('Percent Bleached Density Plot')\n",
    "plt.show()"
   ]
  },
  {
   "cell_type": "code",
   "execution_count": 447,
   "metadata": {},
   "outputs": [
    {
     "data": {
      "image/png": "[encoded data removed]",
      "text/plain": [
       "<Figure size 432x288 with 1 Axes>"
      ]
     },
     "metadata": {
      "needs_background": "light"
     },
     "output_type": "display_data"
    }
   ],
   "source": [
    "# plotting feature importance\n",
    "from xgboost import plot_importance\n",
    "from matplotlib import pyplot as plt\n",
    "plot_importance(xgb_bleaching, max_num_features=10)\n",
    "plt.show()"
   ]
  },
  {
   "cell_type": "markdown",
   "metadata": {},
   "source": [
    "### Looking at Ranking Performance of the Bleaching Model"
   ]
  },
  {
   "cell_type": "code",
   "execution_count": 407,
   "metadata": {},
   "outputs": [],
   "source": [
    "def k_percentile_accuracy(y_true, y_pred, k):\n",
    "    n = len(y_true)\n",
    "    k = int(n * k / 100)\n",
    "    top_k = y_pred.argsort()[:k]\n",
    "    top_k_actual = y_true.argsort()[:k]\n",
    "    return len(set(top_k_actual) & set(top_k)) / k\n",
    "\n",
    "top_k_accs = {}\n",
    "for k in range(10, 110, 10):\n",
    "    top_k_accs[k] = k_percentile_accuracy(y_valid, xgb_bleaching.predict(X_valid), k)\n",
    "\n",
    "# simulating what we could get for  top k accuracy by random chance over 1000 runs\n",
    "import random\n",
    "random.seed(42)\n",
    "random_top_k_accs = {}\n",
    "\n",
    "for run in range(10000):\n",
    "    for k in range(10, 110, 10):\n",
    "        random_top_k_accs[k] = random_top_k_accs.get(k, 0) + k_percentile_accuracy(y_valid, np.random.rand(len(y_valid)), k)\n",
    "\n",
    "random_top_k_accs = {k: v / 10000 for k, v in random_top_k_accs.items()}"
   ]
  },
  {
   "cell_type": "code",
   "execution_count": 408,
   "metadata": {},
   "outputs": [
    {
     "data": {
      "image/png": "[encoded data removed]",
      "text/plain": [
       "<Figure size 864x576 with 1 Axes>"
      ]
     },
     "metadata": {
      "needs_background": "light"
     },
     "output_type": "display_data"
    }
   ],
   "source": [
    "k = [100 - x for x in list(top_k_accs.keys())][::-1]\n",
    "top_k_accs = list(top_k_accs.values())[::-1]\n",
    "random_top_k_accs = list(random_top_k_accs.values())[::-1]\n",
    "x = np.arange(len(k))\n",
    "width = 0.45\n",
    "\n",
    "fig, ax = plt.subplots()\n",
    "# making figure larger\n",
    "fig.set_size_inches(12, 8)\n",
    "rects1 = ax.bar(x - width/2, top_k_accs, width, label='Model')\n",
    "rects2 = ax.bar(x + width/2, random_top_k_accs, width, label='Random')\n",
    "ax.set_ylabel('Proportion of Correct Rankings', fontsize=14)\n",
    "ax.set_xlabel('Bleaching Percentile', fontsize=14)\n",
    "ax.set_title('Ranking Performance of Coral Bleaching \\nModel vs Random', fontsize=18)\n",
    "ax.set_xticks(x)\n",
    "ax.set_xticklabels([f'{val}-99' for  val in k], fontsize=12)\n",
    "ax.legend()\n",
    "fig.tight_layout()\n",
    "plt.show()"
   ]
  },
  {
   "cell_type": "markdown",
   "metadata": {},
   "source": [
    "### Modeling Coral/Algae Presence with Allen Coral Data"
   ]
  },
  {
   "cell_type": "code",
   "execution_count": 430,
   "metadata": {},
   "outputs": [
    {
     "data": {
      "text/plain": [
       "Index(['class', 'geometry', 'centroid', 'long', 'lat', 'Blue', 'Green', 'Red',\n",
       "       'Near Infrared', 'Shortwave Infrared 1', 'Shortwave Infrared 2',\n",
       "       'QA_PIXEL', 'datetime_landsat', 'datetime_landsat_offset', 'day',\n",
       "       'month', 'year', 'sur_refl_b08', 'sur_refl_b09', 'sur_refl_b10',\n",
       "       'sur_refl_b11', 'sur_refl_b12', 'sur_refl_b13', 'sur_refl_b14',\n",
       "       'sur_refl_b15', 'sur_refl_b16', 'AWEInsh', 'AWEIsh', 'LSWI', 'MBWI',\n",
       "       'MLSWI26', 'MLSWI27', 'MNDWI', 'MuWIR', 'NDVIMNDWI', 'NDWI', 'NDWIns',\n",
       "       'NWI', 'SWM', 'WI1', 'WI2', 'WRI'],\n",
       "      dtype='object')"
      ]
     },
     "execution_count": 430,
     "metadata": {},
     "output_type": "execute_result"
    }
   ],
   "source": [
    "allen_coral = pd.read_pickle('./landsat_modis_allen_spectral_50k.pkl')\n",
    "allen_coral.columns"
   ]
  },
  {
   "cell_type": "code",
   "execution_count": 432,
   "metadata": {},
   "outputs": [],
   "source": [
    "coral_presence_cols = ['Blue', 'Green', 'Red',\n",
    "       'Near Infrared', 'Shortwave Infrared 1', 'Shortwave Infrared 2',\n",
    "       'QA_PIXEL', 'sur_refl_b08', 'sur_refl_b09', 'sur_refl_b10',\n",
    "       'sur_refl_b11', 'sur_refl_b12', 'sur_refl_b13', 'sur_refl_b14',\n",
    "       'sur_refl_b15', 'sur_refl_b16', 'AWEInsh', 'AWEIsh', 'LSWI', 'MBWI',\n",
    "       'MLSWI26', 'MLSWI27', 'MNDWI', 'MuWIR', 'NDVIMNDWI', 'NDWI', 'NDWIns',\n",
    "       'NWI', 'SWM', 'WI1', 'WI2', 'WRI', 'class']\n",
    "# df = df.replace(-100, 0)\n",
    "allen_coral = allen_coral[coral_presence_cols]\n",
    "allen_coral = allen_coral.dropna()"
   ]
  },
  {
   "cell_type": "code",
   "execution_count": 433,
   "metadata": {},
   "outputs": [],
   "source": [
    "features = ['Blue', 'Green', 'Red',\n",
    "       'Near Infrared', 'Shortwave Infrared 1', 'Shortwave Infrared 2',\n",
    "       'QA_PIXEL', 'sur_refl_b08', 'sur_refl_b09', 'sur_refl_b10',\n",
    "       'sur_refl_b11', 'sur_refl_b12', 'sur_refl_b13', 'sur_refl_b14',\n",
    "       'sur_refl_b15', 'sur_refl_b16', 'AWEInsh', 'AWEIsh', 'LSWI', 'MBWI',\n",
    "       'MLSWI26', 'MLSWI27', 'MNDWI', 'MuWIR', 'NDVIMNDWI', 'NDWI', 'NDWIns',\n",
    "       'NWI', 'SWM', 'WI1', 'WI2', 'WRI']\n",
    "X = allen_coral[features]\n",
    "y = allen_coral['class']"
   ]
  },
  {
   "cell_type": "code",
   "execution_count": 434,
   "metadata": {},
   "outputs": [
    {
     "data": {
      "text/plain": [
       "Non-Coral    24501\n",
       "Coral        21573\n",
       "Name: class, dtype: int64"
      ]
     },
     "execution_count": 434,
     "metadata": {},
     "output_type": "execute_result"
    }
   ],
   "source": [
    "y.value_counts()"
   ]
  },
  {
   "cell_type": "code",
   "execution_count": 435,
   "metadata": {},
   "outputs": [],
   "source": [
    "# splitting data into train and test\n",
    "from sklearn.model_selection import train_test_split\n",
    "\n",
    "X_train, X_test, y_train, y_test = train_test_split(X, y, test_size=0.2, random_state=42)\n",
    "\n",
    "# splitting train into train and validation\n",
    "X_train, X_valid, y_train, y_valid = train_test_split(X_train, y_train, test_size=0.2, random_state=42)\n"
   ]
  },
  {
   "cell_type": "code",
   "execution_count": 436,
   "metadata": {},
   "outputs": [
    {
     "name": "stderr",
     "output_type": "stream",
     "text": [
      "/Users/patrickgeitner/miniforge3/lib/python3.9/site-packages/xgboost/sklearn.py:1146: UserWarning: The use of label encoder in XGBClassifier is deprecated and will be removed in a future release. To remove this warning, do the following: 1) Pass option use_label_encoder=False when constructing XGBClassifier object; and 2) Encode your labels (y) as integers starting with 0, i.e. 0, 1, 2, ..., [num_class - 1].\n",
      "  warnings.warn(label_encoder_deprecation_msg, UserWarning)\n",
      "/Users/patrickgeitner/miniforge3/lib/python3.9/site-packages/xgboost/data.py:208: FutureWarning: pandas.Int64Index is deprecated and will be removed from pandas in a future version. Use pandas.Index with the appropriate dtype instead.\n",
      "  from pandas import MultiIndex, Int64Index\n"
     ]
    },
    {
     "name": "stdout",
     "output_type": "stream",
     "text": [
      "[10:45:37] WARNING: /Users/patrickgeitner/xgboost-1.4.2/build/temp.macosx-11.0-arm64-3.9/xgboost/src/learner.cc:1095: Starting in XGBoost 1.3.0, the default evaluation metric used with the objective 'binary:logistic' was changed from 'error' to 'logloss'. Explicitly set eval_metric if you'd like to restore the old behavior.\n"
     ]
    },
    {
     "data": {
      "text/plain": [
       "XGBClassifier(base_score=0.5, booster='gbtree', colsample_bylevel=1,\n",
       "              colsample_bynode=1, colsample_bytree=1, gamma=0, gpu_id=-1,\n",
       "              importance_type='gain', interaction_constraints='',\n",
       "              learning_rate=0.001, max_delta_step=0, max_depth=20,\n",
       "              min_child_weight=1, missing=nan, monotone_constraints='()',\n",
       "              n_estimators=400, n_jobs=1, num_parallel_tree=1, random_state=50,\n",
       "              reg_alpha=10, reg_lambda=10, scale_pos_weight=1, subsample=1,\n",
       "              tree_method='exact', validate_parameters=1, verbosity=None)"
      ]
     },
     "execution_count": 436,
     "metadata": {},
     "output_type": "execute_result"
    }
   ],
   "source": [
    "import xgboost as xgb\n",
    "\n",
    "xgb_model = xgb.XGBClassifier(objective=\"binary:logistic\", random_state=50, reg_alpha=10, reg_lambda=10, max_depth=20, n_estimators=400, learning_rate=0.001)\n",
    "xgb_model.fit(X_train, y_train)"
   ]
  },
  {
   "cell_type": "code",
   "execution_count": 437,
   "metadata": {},
   "outputs": [
    {
     "data": {
      "text/plain": [
       "0.9096581660336408"
      ]
     },
     "execution_count": 437,
     "metadata": {},
     "output_type": "execute_result"
    }
   ],
   "source": [
    "xgb_model.score(X_valid, y_valid)"
   ]
  },
  {
   "cell_type": "code",
   "execution_count": 438,
   "metadata": {},
   "outputs": [
    {
     "data": {
      "text/plain": [
       "0.9112316874660878"
      ]
     },
     "execution_count": 438,
     "metadata": {},
     "output_type": "execute_result"
    }
   ],
   "source": [
    "xgb_model.score(X_test, y_test)"
   ]
  },
  {
   "cell_type": "code",
   "execution_count": 448,
   "metadata": {},
   "outputs": [
    {
     "data": {
      "image/png": "[encoded data removed]",
      "text/plain": [
       "<Figure size 432x288 with 1 Axes>"
      ]
     },
     "metadata": {
      "needs_background": "light"
     },
     "output_type": "display_data"
    }
   ],
   "source": [
    "# plotting roc curve\n",
    "from sklearn.metrics import roc_curve, auc\n",
    "import matplotlib.pyplot as plt\n",
    "\n",
    "y_pred = xgb_model.predict_proba(X_valid)[:, 1]\n",
    "fpr, tpr, _ = roc_curve(y_valid, y_pred, pos_label=\"Non-Coral\")\n",
    "roc_auc = auc(fpr, tpr)\n",
    "\n",
    "plt.figure()\n",
    "lw = 2\n",
    "plt.plot(fpr, tpr, color='darkorange',\n",
    "            lw=lw, label='ROC curve (area = %0.2f)' % roc_auc)\n",
    "plt.plot([0, 1], [0, 1], color='navy', lw=lw, linestyle='--')\n",
    "plt.xlim([0.0, 1.0])\n",
    "plt.ylim([0.0, 1.05])\n",
    "plt.xlabel('False Positive Rate')\n",
    "plt.ylabel('True Positive Rate')\n",
    "plt.title('Receiver Operating Characteristic')\n",
    "plt.legend(loc=\"lower right\")\n",
    "plt.show()\n"
   ]
  },
  {
   "cell_type": "code",
   "execution_count": 451,
   "metadata": {},
   "outputs": [
    {
     "data": {
      "image/png": "[encoded data removed]",
      "text/plain": [
       "<Figure size 432x288 with 1 Axes>"
      ]
     },
     "metadata": {
      "needs_background": "light"
     },
     "output_type": "display_data"
    }
   ],
   "source": [
    "# plotting confusion matrix\n",
    "from sklearn.metrics import confusion_matrix\n",
    "import seaborn as sns\n",
    "\n",
    "y_pred = xgb_model.predict(X_valid)\n",
    "cm = confusion_matrix(y_valid, y_pred, labels=[\"Coral\", \"Non-Coral\"])\n",
    "sns.heatmap(cm, annot=True, fmt=\"d\", cmap=\"Blues\", cbar=False, xticklabels=[\"Coral/Algae\", \"Non-Coral\"], yticklabels=[\"Coral/Algae\", \"Non-Coral\"])\n",
    "plt.xlabel(\"Predicted\")\n",
    "plt.ylabel(\"Actual\")\n",
    "plt.title('Coral/Algae Detection Validation \\nConfusion Matrix')\n",
    "plt.show()"
   ]
  },
  {
   "cell_type": "code",
   "execution_count": 446,
   "metadata": {},
   "outputs": [
    {
     "data": {
      "image/png": "[encoded data removed]",
      "text/plain": [
       "<Figure size 432x288 with 1 Axes>"
      ]
     },
     "metadata": {
      "needs_background": "light"
     },
     "output_type": "display_data"
    }
   ],
   "source": [
    "# plotting feature importance\n",
    "from xgboost import plot_importance\n",
    "from matplotlib import pyplot as plt\n",
    "plot_importance(xgb_model, max_num_features=10)\n",
    "plt.show()"
   ]
  },
  {
   "cell_type": "code",
   "execution_count": null,
   "metadata": {},
   "outputs": [],
   "source": []
  }
 ],
 "metadata": {
  "kernelspec": {
   "display_name": "Python 3.9.10 ('base')",
   "language": "python",
   "name": "python3"
  },
  "language_info": {
   "codemirror_mode": {
    "name": "ipython",
    "version": 3
   },
   "file_extension": ".py",
   "mimetype": "text/x-python",
   "name": "python",
   "nbconvert_exporter": "python",
   "pygments_lexer": "ipython3",
   "version": "3.9.10"
  },
  "orig_nbformat": 4,
  "vscode": {
   "interpreter": {
    "hash": "89b171d5c5965201530cf70529ac7bb3a826a6844216e1722e4438b0223f446c"
   }
  }
 },
 "nbformat": 4,
 "nbformat_minor": 2
}
