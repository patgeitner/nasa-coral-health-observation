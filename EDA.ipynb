{
 "cells": [
  {
   "cell_type": "markdown",
   "id": "4e4d42b9",
   "metadata": {},
   "source": [
    "## Allen Coral Data"
   ]
  },
  {
   "cell_type": "code",
   "execution_count": 1,
   "id": "5ce99e29",
   "metadata": {},
   "outputs": [
    {
     "data": {
      "text/html": [
       "<div>\n",
       "<style scoped>\n",
       "    .dataframe tbody tr th:only-of-type {\n",
       "        vertical-align: middle;\n",
       "    }\n",
       "\n",
       "    .dataframe tbody tr th {\n",
       "        vertical-align: top;\n",
       "    }\n",
       "\n",
       "    .dataframe thead th {\n",
       "        text-align: right;\n",
       "    }\n",
       "</style>\n",
       "<table border=\"1\" class=\"dataframe\">\n",
       "  <thead>\n",
       "    <tr style=\"text-align: right;\">\n",
       "      <th></th>\n",
       "      <th>class</th>\n",
       "      <th>geometry</th>\n",
       "    </tr>\n",
       "  </thead>\n",
       "  <tbody>\n",
       "    <tr>\n",
       "      <th>0</th>\n",
       "      <td>Rubble</td>\n",
       "      <td>POLYGON ((147.06005 -18.61624, 147.06023 -18.6...</td>\n",
       "    </tr>\n",
       "    <tr>\n",
       "      <th>1</th>\n",
       "      <td>Rubble</td>\n",
       "      <td>POLYGON ((147.06072 -18.61646, 147.06090 -18.6...</td>\n",
       "    </tr>\n",
       "    <tr>\n",
       "      <th>2</th>\n",
       "      <td>Rock</td>\n",
       "      <td>POLYGON ((147.05668 -18.61682, 147.05673 -18.6...</td>\n",
       "    </tr>\n",
       "    <tr>\n",
       "      <th>3</th>\n",
       "      <td>Coral/Algae</td>\n",
       "      <td>POLYGON ((147.05718 -18.61844, 147.05736 -18.6...</td>\n",
       "    </tr>\n",
       "    <tr>\n",
       "      <th>4</th>\n",
       "      <td>Sand</td>\n",
       "      <td>POLYGON ((147.05646 -18.62010, 147.05664 -18.6...</td>\n",
       "    </tr>\n",
       "  </tbody>\n",
       "</table>\n",
       "</div>"
      ],
      "text/plain": [
       "         class                                           geometry\n",
       "0       Rubble  POLYGON ((147.06005 -18.61624, 147.06023 -18.6...\n",
       "1       Rubble  POLYGON ((147.06072 -18.61646, 147.06090 -18.6...\n",
       "2         Rock  POLYGON ((147.05668 -18.61682, 147.05673 -18.6...\n",
       "3  Coral/Algae  POLYGON ((147.05718 -18.61844, 147.05736 -18.6...\n",
       "4         Sand  POLYGON ((147.05646 -18.62010, 147.05664 -18.6..."
      ]
     },
     "execution_count": 1,
     "metadata": {},
     "output_type": "execute_result"
    }
   ],
   "source": [
    "import geopandas as gpd\n",
    "#gbr data from allen coral\n",
    "data = gpd.read_file(\"gbr_benthic.gpkg\")\n",
    "data.head()"
   ]
  },
  {
   "cell_type": "code",
   "execution_count": 2,
   "id": "a7141650",
   "metadata": {},
   "outputs": [
    {
     "name": "stderr",
     "output_type": "stream",
     "text": [
      "<ipython-input-2-a20855aa39cd>:2: UserWarning: Geometry is in a geographic CRS. Results from 'centroid' are likely incorrect. Use 'GeoSeries.to_crs()' to re-project geometries to a projected CRS before this operation.\n",
      "\n",
      "  data['centroid'] = data['geometry'].centroid\n",
      "<ipython-input-2-a20855aa39cd>:4: UserWarning: Geometry is in a geographic CRS. Results from 'centroid' are likely incorrect. Use 'GeoSeries.to_crs()' to re-project geometries to a projected CRS before this operation.\n",
      "\n",
      "  data[\"lat\"] = data.centroid.map(lambda p: p.x)\n",
      "<ipython-input-2-a20855aa39cd>:5: UserWarning: Geometry is in a geographic CRS. Results from 'centroid' are likely incorrect. Use 'GeoSeries.to_crs()' to re-project geometries to a projected CRS before this operation.\n",
      "\n",
      "  data[\"long\"] = data.centroid.map(lambda p: p.y)\n"
     ]
    }
   ],
   "source": [
    "#Find the center point\n",
    "data['centroid'] = data['geometry'].centroid\n",
    "#Extract lat and lon from the centerpoint\n",
    "data[\"lat\"] = data.centroid.map(lambda p: p.x)\n",
    "data[\"long\"] = data.centroid.map(lambda p: p.y)"
   ]
  },
  {
   "cell_type": "code",
   "execution_count": 4,
   "id": "02b711fb",
   "metadata": {},
   "outputs": [],
   "source": [
    "data.to_csv('gbr_allenCoral.csv')"
   ]
  },
  {
   "cell_type": "code",
   "execution_count": 5,
   "id": "1ba2df70",
   "metadata": {},
   "outputs": [],
   "source": [
    "gbr_atlas=data"
   ]
  },
  {
   "cell_type": "code",
   "execution_count": 6,
   "id": "ee58e2ff",
   "metadata": {},
   "outputs": [],
   "source": [
    "#caribbean data from allen coral\n",
    "#southeatern caribbean data + northern caribbean data separate to be concatinated\n",
    "southCar = gpd.read_file(\"southCar_benthic.gpkg\")\n",
    "northCar = gpd.read_file(\"northCar_benthic.gpkg\")"
   ]
  },
  {
   "cell_type": "code",
   "execution_count": 9,
   "id": "8033ccd1",
   "metadata": {},
   "outputs": [],
   "source": [
    "import pandas as pd\n",
    "car_atlas = pd.concat([southCar,northCar])"
   ]
  },
  {
   "cell_type": "code",
   "execution_count": 13,
   "id": "7b5f7076",
   "metadata": {},
   "outputs": [
    {
     "name": "stderr",
     "output_type": "stream",
     "text": [
      "<ipython-input-13-9c258e30ddeb>:2: UserWarning: Geometry is in a geographic CRS. Results from 'centroid' are likely incorrect. Use 'GeoSeries.to_crs()' to re-project geometries to a projected CRS before this operation.\n",
      "\n",
      "  car_atlas['centroid'] = car_atlas['geometry'].centroid\n",
      "<ipython-input-13-9c258e30ddeb>:4: UserWarning: Geometry is in a geographic CRS. Results from 'centroid' are likely incorrect. Use 'GeoSeries.to_crs()' to re-project geometries to a projected CRS before this operation.\n",
      "\n",
      "  car_atlas[\"lat\"] = car_atlas.centroid.map(lambda p: p.x)\n",
      "<ipython-input-13-9c258e30ddeb>:5: UserWarning: Geometry is in a geographic CRS. Results from 'centroid' are likely incorrect. Use 'GeoSeries.to_crs()' to re-project geometries to a projected CRS before this operation.\n",
      "\n",
      "  car_atlas[\"long\"] = car_atlas.centroid.map(lambda p: p.y)\n"
     ]
    }
   ],
   "source": [
    "#Find the center point\n",
    "car_atlas['centroid'] = car_atlas['geometry'].centroid\n",
    "#Extract lat and lon from the centerpoint\n",
    "car_atlas[\"lat\"] = car_atlas.centroid.map(lambda p: p.x)\n",
    "car_atlas[\"long\"] = car_atlas.centroid.map(lambda p: p.y)"
   ]
  },
  {
   "cell_type": "code",
   "execution_count": 14,
   "id": "4650b2a5",
   "metadata": {},
   "outputs": [],
   "source": [
    "data.to_csv('car_allenCoral.csv')"
   ]
  },
  {
   "cell_type": "code",
   "execution_count": 22,
   "id": "bfa33d01",
   "metadata": {},
   "outputs": [
    {
     "data": {
      "text/html": [
       "<div>\n",
       "<style scoped>\n",
       "    .dataframe tbody tr th:only-of-type {\n",
       "        vertical-align: middle;\n",
       "    }\n",
       "\n",
       "    .dataframe tbody tr th {\n",
       "        vertical-align: top;\n",
       "    }\n",
       "\n",
       "    .dataframe thead th {\n",
       "        text-align: right;\n",
       "    }\n",
       "</style>\n",
       "<table border=\"1\" class=\"dataframe\">\n",
       "  <thead>\n",
       "    <tr style=\"text-align: right;\">\n",
       "      <th></th>\n",
       "      <th>class</th>\n",
       "      <th>geometry</th>\n",
       "      <th>centroid</th>\n",
       "      <th>lat</th>\n",
       "      <th>long</th>\n",
       "    </tr>\n",
       "  </thead>\n",
       "  <tbody>\n",
       "    <tr>\n",
       "      <th>0</th>\n",
       "      <td>Seagrass</td>\n",
       "      <td>POLYGON ((-64.32485 10.95684, -64.32476 10.956...</td>\n",
       "      <td>POINT (-64.32480 10.95680)</td>\n",
       "      <td>-64.324802</td>\n",
       "      <td>10.956804</td>\n",
       "    </tr>\n",
       "    <tr>\n",
       "      <th>1</th>\n",
       "      <td>Seagrass</td>\n",
       "      <td>POLYGON ((-64.31493 10.95648, -64.31479 10.956...</td>\n",
       "      <td>POINT (-64.31486 10.95646)</td>\n",
       "      <td>-64.314860</td>\n",
       "      <td>10.956460</td>\n",
       "    </tr>\n",
       "    <tr>\n",
       "      <th>2</th>\n",
       "      <td>Rubble</td>\n",
       "      <td>POLYGON ((-64.31973 10.95671, -64.31969 10.956...</td>\n",
       "      <td>POINT (-64.31973 10.95651)</td>\n",
       "      <td>-64.319726</td>\n",
       "      <td>10.956510</td>\n",
       "    </tr>\n",
       "    <tr>\n",
       "      <th>3</th>\n",
       "      <td>Seagrass</td>\n",
       "      <td>POLYGON ((-64.31578 10.95657, -64.31569 10.956...</td>\n",
       "      <td>POINT (-64.31556 10.95643)</td>\n",
       "      <td>-64.315560</td>\n",
       "      <td>10.956425</td>\n",
       "    </tr>\n",
       "    <tr>\n",
       "      <th>4</th>\n",
       "      <td>Rubble</td>\n",
       "      <td>POLYGON ((-64.31497 10.95608, -64.31493 10.956...</td>\n",
       "      <td>POINT (-64.31495 10.95606)</td>\n",
       "      <td>-64.314950</td>\n",
       "      <td>10.956055</td>\n",
       "    </tr>\n",
       "  </tbody>\n",
       "</table>\n",
       "</div>"
      ],
      "text/plain": [
       "      class                                           geometry  \\\n",
       "0  Seagrass  POLYGON ((-64.32485 10.95684, -64.32476 10.956...   \n",
       "1  Seagrass  POLYGON ((-64.31493 10.95648, -64.31479 10.956...   \n",
       "2    Rubble  POLYGON ((-64.31973 10.95671, -64.31969 10.956...   \n",
       "3  Seagrass  POLYGON ((-64.31578 10.95657, -64.31569 10.956...   \n",
       "4    Rubble  POLYGON ((-64.31497 10.95608, -64.31493 10.956...   \n",
       "\n",
       "                     centroid        lat       long  \n",
       "0  POINT (-64.32480 10.95680) -64.324802  10.956804  \n",
       "1  POINT (-64.31486 10.95646) -64.314860  10.956460  \n",
       "2  POINT (-64.31973 10.95651) -64.319726  10.956510  \n",
       "3  POINT (-64.31556 10.95643) -64.315560  10.956425  \n",
       "4  POINT (-64.31495 10.95606) -64.314950  10.956055  "
      ]
     },
     "execution_count": 22,
     "metadata": {},
     "output_type": "execute_result"
    }
   ],
   "source": [
    "car_atlas.head(5)"
   ]
  },
  {
   "cell_type": "markdown",
   "id": "d8bda415",
   "metadata": {},
   "source": [
    "## GCBD"
   ]
  },
  {
   "cell_type": "code",
   "execution_count": 31,
   "id": "ef44646f",
   "metadata": {},
   "outputs": [
    {
     "data": {
      "text/html": [
       "<div>\n",
       "<style scoped>\n",
       "    .dataframe tbody tr th:only-of-type {\n",
       "        vertical-align: middle;\n",
       "    }\n",
       "\n",
       "    .dataframe tbody tr th {\n",
       "        vertical-align: top;\n",
       "    }\n",
       "\n",
       "    .dataframe thead th {\n",
       "        text-align: right;\n",
       "    }\n",
       "</style>\n",
       "<table border=\"1\" class=\"dataframe\">\n",
       "  <thead>\n",
       "    <tr style=\"text-align: right;\">\n",
       "      <th></th>\n",
       "      <th>Latitude_Degrees</th>\n",
       "      <th>Longitude_Degrees</th>\n",
       "      <th>Date</th>\n",
       "      <th>Percent_Bleached_Sum</th>\n",
       "      <th>Percent_Cover_Sum</th>\n",
       "      <th>long_lat</th>\n",
       "    </tr>\n",
       "  </thead>\n",
       "  <tbody>\n",
       "    <tr>\n",
       "      <th>708</th>\n",
       "      <td>-18.54635</td>\n",
       "      <td>146.48803</td>\n",
       "      <td>2002-02-15</td>\n",
       "      <td>5.0</td>\n",
       "      <td>NaN</td>\n",
       "      <td>(146.48803, -18.54635)</td>\n",
       "    </tr>\n",
       "    <tr>\n",
       "      <th>709</th>\n",
       "      <td>-18.54635</td>\n",
       "      <td>146.48803</td>\n",
       "      <td>2002-02-15</td>\n",
       "      <td>5.0</td>\n",
       "      <td>NaN</td>\n",
       "      <td>(146.48803, -18.54635)</td>\n",
       "    </tr>\n",
       "    <tr>\n",
       "      <th>711</th>\n",
       "      <td>-18.54628</td>\n",
       "      <td>146.48752</td>\n",
       "      <td>2002-02-15</td>\n",
       "      <td>5.0</td>\n",
       "      <td>NaN</td>\n",
       "      <td>(146.48752, -18.54628)</td>\n",
       "    </tr>\n",
       "    <tr>\n",
       "      <th>712</th>\n",
       "      <td>-18.44480</td>\n",
       "      <td>146.99328</td>\n",
       "      <td>2002-02-15</td>\n",
       "      <td>37.5</td>\n",
       "      <td>NaN</td>\n",
       "      <td>(146.99328, -18.4448)</td>\n",
       "    </tr>\n",
       "    <tr>\n",
       "      <th>713</th>\n",
       "      <td>-18.44432</td>\n",
       "      <td>146.99333</td>\n",
       "      <td>2002-02-15</td>\n",
       "      <td>37.5</td>\n",
       "      <td>NaN</td>\n",
       "      <td>(146.99333, -18.44432)</td>\n",
       "    </tr>\n",
       "  </tbody>\n",
       "</table>\n",
       "</div>"
      ],
      "text/plain": [
       "     Latitude_Degrees  Longitude_Degrees        Date  Percent_Bleached_Sum  \\\n",
       "708         -18.54635          146.48803  2002-02-15                   5.0   \n",
       "709         -18.54635          146.48803  2002-02-15                   5.0   \n",
       "711         -18.54628          146.48752  2002-02-15                   5.0   \n",
       "712         -18.44480          146.99328  2002-02-15                  37.5   \n",
       "713         -18.44432          146.99333  2002-02-15                  37.5   \n",
       "\n",
       "     Percent_Cover_Sum                long_lat  \n",
       "708                NaN  (146.48803, -18.54635)  \n",
       "709                NaN  (146.48803, -18.54635)  \n",
       "711                NaN  (146.48752, -18.54628)  \n",
       "712                NaN   (146.99328, -18.4448)  \n",
       "713                NaN  (146.99333, -18.44432)  "
      ]
     },
     "execution_count": 31,
     "metadata": {},
     "output_type": "execute_result"
    }
   ],
   "source": [
    "gcbd=pd.read_csv(\"meshedGCBD.csv\",index_col=0)\n",
    "gcbd[\"long_lat\"] = list(zip(gcbd[\"Longitude_Degrees\"], gcbd[\"Latitude_Degrees\"]))\n",
    "gcbd.head(5)"
   ]
  },
  {
   "cell_type": "code",
   "execution_count": 38,
   "id": "f07650a4",
   "metadata": {},
   "outputs": [
    {
     "name": "stderr",
     "output_type": "stream",
     "text": [
      "/opt/anaconda3/lib/python3.8/site-packages/geopandas/plotting.py:51: ShapelyDeprecationWarning:\n",
      "\n",
      "The 'type' attribute is deprecated, and will be removed in the future. You can use the 'geom_type' attribute instead.\n",
      "\n"
     ]
    },
    {
     "data": {
      "text/plain": [
       "Text(0.5, 1.0, 'Distribution of Global Coral Bleaching Database Data')"
      ]
     },
     "execution_count": 38,
     "metadata": {},
     "output_type": "execute_result"
    },
    {
     "data": {
      "image/png": "[encoded data removed]",
      "text/plain": [
       "<Figure size 720x432 with 1 Axes>"
      ]
     },
     "metadata": {
      "needs_background": "light"
     },
     "output_type": "display_data"
    }
   ],
   "source": [
    "import pandas as pd\n",
    "from shapely.geometry import Point\n",
    "import geopandas as gpd\n",
    "from geopandas import GeoDataFrame\n",
    "\n",
    "geometry = [Point(xy) for xy in zip(gcbd['Longitude_Degrees'], gcbd['Latitude_Degrees'])]\n",
    "gdf = GeoDataFrame(gcbd, geometry=geometry)   \n",
    "\n",
    "#this is a simple map that goes with geopandas\n",
    "world = gpd.read_file(gpd.datasets.get_path('naturalearth_lowres'))\n",
    "gdf.plot(ax=world.plot(figsize=(10, 6)), marker='o', color='red', markersize=15);\n",
    "plt.title(\"Distribution of Global Coral Bleaching Database Data\")"
   ]
  },
  {
   "cell_type": "code",
   "execution_count": 47,
   "id": "f7ec3194",
   "metadata": {},
   "outputs": [
    {
     "data": {
      "text/html": [
       "<div>\n",
       "<style scoped>\n",
       "    .dataframe tbody tr th:only-of-type {\n",
       "        vertical-align: middle;\n",
       "    }\n",
       "\n",
       "    .dataframe tbody tr th {\n",
       "        vertical-align: top;\n",
       "    }\n",
       "\n",
       "    .dataframe thead th {\n",
       "        text-align: right;\n",
       "    }\n",
       "</style>\n",
       "<table border=\"1\" class=\"dataframe\">\n",
       "  <thead>\n",
       "    <tr style=\"text-align: right;\">\n",
       "      <th></th>\n",
       "      <th>Latitude_Degrees</th>\n",
       "      <th>Longitude_Degrees</th>\n",
       "      <th>Percent_Bleached_Sum</th>\n",
       "      <th>Percent_Cover_Sum</th>\n",
       "      <th>long_lat</th>\n",
       "      <th>geometry</th>\n",
       "    </tr>\n",
       "    <tr>\n",
       "      <th>Date</th>\n",
       "      <th></th>\n",
       "      <th></th>\n",
       "      <th></th>\n",
       "      <th></th>\n",
       "      <th></th>\n",
       "      <th></th>\n",
       "    </tr>\n",
       "  </thead>\n",
       "  <tbody>\n",
       "    <tr>\n",
       "      <th>2000-01-15</th>\n",
       "      <td>1</td>\n",
       "      <td>1</td>\n",
       "      <td>1</td>\n",
       "      <td>0</td>\n",
       "      <td>1</td>\n",
       "      <td>1</td>\n",
       "    </tr>\n",
       "    <tr>\n",
       "      <th>2000-06-12</th>\n",
       "      <td>2</td>\n",
       "      <td>2</td>\n",
       "      <td>2</td>\n",
       "      <td>0</td>\n",
       "      <td>2</td>\n",
       "      <td>2</td>\n",
       "    </tr>\n",
       "    <tr>\n",
       "      <th>2000-06-15</th>\n",
       "      <td>2</td>\n",
       "      <td>2</td>\n",
       "      <td>2</td>\n",
       "      <td>0</td>\n",
       "      <td>2</td>\n",
       "      <td>2</td>\n",
       "    </tr>\n",
       "    <tr>\n",
       "      <th>2000-07-17</th>\n",
       "      <td>3</td>\n",
       "      <td>3</td>\n",
       "      <td>3</td>\n",
       "      <td>0</td>\n",
       "      <td>3</td>\n",
       "      <td>3</td>\n",
       "    </tr>\n",
       "    <tr>\n",
       "      <th>2000-08-04</th>\n",
       "      <td>11</td>\n",
       "      <td>11</td>\n",
       "      <td>11</td>\n",
       "      <td>0</td>\n",
       "      <td>11</td>\n",
       "      <td>11</td>\n",
       "    </tr>\n",
       "    <tr>\n",
       "      <th>...</th>\n",
       "      <td>...</td>\n",
       "      <td>...</td>\n",
       "      <td>...</td>\n",
       "      <td>...</td>\n",
       "      <td>...</td>\n",
       "      <td>...</td>\n",
       "    </tr>\n",
       "    <tr>\n",
       "      <th>2018-06-22</th>\n",
       "      <td>1</td>\n",
       "      <td>1</td>\n",
       "      <td>1</td>\n",
       "      <td>1</td>\n",
       "      <td>1</td>\n",
       "      <td>1</td>\n",
       "    </tr>\n",
       "    <tr>\n",
       "      <th>2018-08-25</th>\n",
       "      <td>1</td>\n",
       "      <td>1</td>\n",
       "      <td>1</td>\n",
       "      <td>1</td>\n",
       "      <td>1</td>\n",
       "      <td>1</td>\n",
       "    </tr>\n",
       "    <tr>\n",
       "      <th>2018-09-26</th>\n",
       "      <td>1</td>\n",
       "      <td>1</td>\n",
       "      <td>1</td>\n",
       "      <td>1</td>\n",
       "      <td>1</td>\n",
       "      <td>1</td>\n",
       "    </tr>\n",
       "    <tr>\n",
       "      <th>2019-03-24</th>\n",
       "      <td>1</td>\n",
       "      <td>1</td>\n",
       "      <td>1</td>\n",
       "      <td>1</td>\n",
       "      <td>1</td>\n",
       "      <td>1</td>\n",
       "    </tr>\n",
       "    <tr>\n",
       "      <th>2019-08-24</th>\n",
       "      <td>1</td>\n",
       "      <td>1</td>\n",
       "      <td>1</td>\n",
       "      <td>1</td>\n",
       "      <td>1</td>\n",
       "      <td>1</td>\n",
       "    </tr>\n",
       "  </tbody>\n",
       "</table>\n",
       "<p>1430 rows × 6 columns</p>\n",
       "</div>"
      ],
      "text/plain": [
       "            Latitude_Degrees  Longitude_Degrees  Percent_Bleached_Sum  \\\n",
       "Date                                                                    \n",
       "2000-01-15                 1                  1                     1   \n",
       "2000-06-12                 2                  2                     2   \n",
       "2000-06-15                 2                  2                     2   \n",
       "2000-07-17                 3                  3                     3   \n",
       "2000-08-04                11                 11                    11   \n",
       "...                      ...                ...                   ...   \n",
       "2018-06-22                 1                  1                     1   \n",
       "2018-08-25                 1                  1                     1   \n",
       "2018-09-26                 1                  1                     1   \n",
       "2019-03-24                 1                  1                     1   \n",
       "2019-08-24                 1                  1                     1   \n",
       "\n",
       "            Percent_Cover_Sum  long_lat  geometry  \n",
       "Date                                               \n",
       "2000-01-15                  0         1         1  \n",
       "2000-06-12                  0         2         2  \n",
       "2000-06-15                  0         2         2  \n",
       "2000-07-17                  0         3         3  \n",
       "2000-08-04                  0        11        11  \n",
       "...                       ...       ...       ...  \n",
       "2018-06-22                  1         1         1  \n",
       "2018-08-25                  1         1         1  \n",
       "2018-09-26                  1         1         1  \n",
       "2019-03-24                  1         1         1  \n",
       "2019-08-24                  1         1         1  \n",
       "\n",
       "[1430 rows x 6 columns]"
      ]
     },
     "execution_count": 47,
     "metadata": {},
     "output_type": "execute_result"
    }
   ],
   "source": [
    "yearly=gcbd.groupby(['Date']).count()\n",
    "yearly"
   ]
  },
  {
   "cell_type": "code",
   "execution_count": 50,
   "id": "2450a181",
   "metadata": {},
   "outputs": [
    {
     "data": {
      "text/plain": [
       "Text(0.5, 1.0, 'Great Barrier Reef Data Distribution')"
      ]
     },
     "execution_count": 50,
     "metadata": {},
     "output_type": "execute_result"
    },
    {
     "data": {
      "image/png": "[encoded data removed]",
      "text/plain": [
       "<Figure size 432x288 with 1 Axes>"
      ]
     },
     "metadata": {
      "needs_background": "light"
     },
     "output_type": "display_data"
    }
   ],
   "source": [
    "# Plot frequency\n",
    "gbr_atlas['class'].value_counts().plot.barh()\n",
    "plt.title(\"Great Barrier Reef Data Distribution\")"
   ]
  },
  {
   "cell_type": "code",
   "execution_count": 53,
   "id": "cb001995",
   "metadata": {},
   "outputs": [
    {
     "data": {
      "text/plain": [
       "Text(0.5, 1.0, 'Caribbean Data Distribution')"
      ]
     },
     "execution_count": 53,
     "metadata": {},
     "output_type": "execute_result"
    },
    {
     "data": {
      "image/png": "[encoded data removed]",
      "text/plain": [
       "<Figure size 432x288 with 1 Axes>"
      ]
     },
     "metadata": {
      "needs_background": "light"
     },
     "output_type": "display_data"
    }
   ],
   "source": [
    "# Plot frequency\n",
    "car_atlas['class'].value_counts().plot.barh()\n",
    "plt.title(\"Caribbean Data Distribution\")"
   ]
  },
  {
   "cell_type": "code",
   "execution_count": 55,
   "id": "3591bcbe",
   "metadata": {},
   "outputs": [],
   "source": [
    "import plotly.express as px\n",
    "import pandas as pd\n",
    "fig = px.scatter_geo(car_atlas,lat='lat',lon='long')\n",
    "fig.update_layout(title = 'Allen Coral Atlas Data Distribution - Caribbean', title_x=0.5)\n",
    "fig.show()"
   ]
  },
  {
   "cell_type": "code",
   "execution_count": 60,
   "id": "10d93e28",
   "metadata": {},
   "outputs": [
    {
     "data": {
      "text/plain": [
       "Text(0.5, 1.0, 'Date Distribution of Bleeching Data (GCBD)')"
      ]
     },
     "execution_count": 60,
     "metadata": {},
     "output_type": "execute_result"
    },
    {
     "data": {
      "image/png": "[encoded data removed]",
      "text/plain": [
       "<Figure size 432x288 with 1 Axes>"
      ]
     },
     "metadata": {
      "needs_background": "light"
     },
     "output_type": "display_data"
    }
   ],
   "source": [
    "# Plot frequency\n",
    "gcbd[\"Date\"] = gcbd[\"Date\"].astype(\"datetime64\")\n",
    "\n",
    "gcbd.groupby(gcbd[\"Date\"].dt.month).count().plot(kind=\"bar\")\n",
    "plt.title(\"Date Distribution of Bleeching Data (GCBD)\")"
   ]
  },
  {
   "cell_type": "code",
   "execution_count": null,
   "id": "a48dbd1e",
   "metadata": {},
   "outputs": [],
   "source": []
  }
 ],
 "metadata": {
  "kernelspec": {
   "display_name": "Python 3",
   "language": "python",
   "name": "python3"
  },
  "language_info": {
   "codemirror_mode": {
    "name": "ipython",
    "version": 3
   },
   "file_extension": ".py",
   "mimetype": "text/x-python",
   "name": "python",
   "nbconvert_exporter": "python",
   "pygments_lexer": "ipython3",
   "version": "3.8.8"
  }
 },
 "nbformat": 4,
 "nbformat_minor": 5
}
